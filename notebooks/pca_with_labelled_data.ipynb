{
 "cells": [
  {
   "cell_type": "code",
   "execution_count": 1,
   "metadata": {},
   "outputs": [],
   "source": [
    "import sys\n",
    "import os\n",
    "import glob\n",
    "#print(sys.version_info)\n",
    "import pandas as pd\n",
    "import numpy as np\n",
    "from sklearn import metrics,preprocessing\n",
    "import matplotlib.pyplot as plt\n",
    "import seaborn as sns\n",
    "import collections\n",
    "\n",
    "# Imports for PCA\n",
    "from sklearn.preprocessing import StandardScaler\n",
    "from sklearn.decomposition import PCA"
   ]
  },
  {
   "cell_type": "code",
   "execution_count": 2,
   "metadata": {},
   "outputs": [],
   "source": [
    "# getting the labelled data and features from tran_feature_selection notebook\n",
    "%store -r mixed_flows\n",
    "%store -r features\n",
    "\n",
    "%store -r benign_flows"
   ]
  },
  {
   "cell_type": "code",
   "execution_count": 3,
   "metadata": {},
   "outputs": [
    {
     "data": {
      "text/plain": [
       "(2.223487803925044e-16, 1.0000000000000013)"
      ]
     },
     "execution_count": 3,
     "metadata": {},
     "output_type": "execute_result"
    }
   ],
   "source": [
    "x = benign_flows.loc[:, features].values\n",
    "x = StandardScaler().fit_transform(x) # normalizing the features\n",
    "np.mean(x),np.std(x)"
   ]
  },
  {
   "cell_type": "code",
   "execution_count": 4,
   "metadata": {},
   "outputs": [],
   "source": [
    "feat_cols = ['feature'+str(i) for i in range(x.shape[1])]\n",
    "normalised_benign_flows = pd.DataFrame(x,columns=feat_cols)\n",
    "# normalised_benign_flows.tail(5)"
   ]
  },
  {
   "cell_type": "code",
   "execution_count": 8,
   "metadata": {},
   "outputs": [
    {
     "name": "stdout",
     "output_type": "stream",
     "text": [
      "34\n"
     ]
    }
   ],
   "source": [
    "# finding the top k components whose cumulative variance exceeds 95%\n",
    "\n",
    "for i in range(2,len(features)):\n",
    "#     print(i)\n",
    "    pca_benign = PCA(n_components=i) \n",
    "    principalComponents_benign = pca_benign.fit_transform(x)\n",
    "    var=np.cumsum(np.round(pca_benign.explained_variance_ratio_, decimals=3)*100)\n",
    "    array_length = len(var)\n",
    "    last_element = var[array_length - 1]\n",
    "    if last_element>95:\n",
    "        top_k_component = i\n",
    "        break\n",
    "        \n",
    "print(top_k_component)"
   ]
  },
  {
   "cell_type": "code",
   "execution_count": 6,
   "metadata": {},
   "outputs": [],
   "source": [
    "# plotting the principal component\n",
    "\n",
    "# plt.figure(figsize=(16,10))\n",
    "# sns.scatterplot(\n",
    "#     x=\"principal component 1\", y=\"principal component 2\",\n",
    "#     palette=sns.color_palette(\"hls\", 10),\n",
    "#     data=principal_benign_Df,\n",
    "#     legend=\"full\",\n",
    "#     alpha=0.3\n",
    "# )"
   ]
  },
  {
   "cell_type": "code",
   "execution_count": 9,
   "metadata": {},
   "outputs": [
    {
     "name": "stdout",
     "output_type": "stream",
     "text": [
      "[ 13.5  26.1  33.4  40.2  45.8  50.9  55.7  60.1  63.7  66.9  69.9  72.9\n",
      "  75.9  78.8  81.6  84.1  86.4  88.7  90.9  93.   94.5  95.9  97.1  98.\n",
      "  98.7  99.3  99.6  99.8  99.9 100.  100.  100.  100. ]\n"
     ]
    }
   ],
   "source": [
    "# re-run PCA with only top k features again\n",
    "top_k_features = features[:top_k_component-1]\n",
    "\n",
    "top_k_x = benign_flows.loc[:, top_k_features].values\n",
    "top_k_x = StandardScaler().fit_transform(top_k_x) # normalizing the features\n",
    "np.mean(top_k_x),np.std(top_k_x)\n",
    "\n",
    "top_k_feat_cols = ['feature'+str(i) for i in range(top_k_x.shape[1])]\n",
    "\n",
    "top_k_pca = PCA(n_components=top_k_component-1)   \n",
    "top_k_principalComponents = top_k_pca.fit_transform(top_k_x)\n",
    "\n",
    "top_k_var=np.cumsum(np.round(top_k_pca.explained_variance_ratio_, decimals=3)*100)\n",
    "print(top_k_var)\n"
   ]
  },
  {
   "cell_type": "code",
   "execution_count": null,
   "metadata": {},
   "outputs": [],
   "source": []
  }
 ],
 "metadata": {
  "kernelspec": {
   "display_name": "Python 3",
   "language": "python",
   "name": "python3"
  },
  "language_info": {
   "codemirror_mode": {
    "name": "ipython",
    "version": 3
   },
   "file_extension": ".py",
   "mimetype": "text/x-python",
   "name": "python",
   "nbconvert_exporter": "python",
   "pygments_lexer": "ipython3",
   "version": "3.6.5"
  }
 },
 "nbformat": 4,
 "nbformat_minor": 4
}
