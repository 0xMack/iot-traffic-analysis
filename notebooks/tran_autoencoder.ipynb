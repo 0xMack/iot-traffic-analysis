{
 "cells": [
  {
   "cell_type": "code",
   "execution_count": 170,
   "metadata": {
    "id": "n4RuiY_NA8V4"
   },
   "outputs": [],
   "source": [
    "import os\n",
    "import torch\n",
    "import csv\n",
    "import random\n",
    "import numpy as np\n",
    "import pandas as pd\n",
    "import torch.nn as nn\n",
    "from sklearn.model_selection import train_test_split\n",
    "import torch.optim as optim\n",
    "import matplotlib.pyplot as plt\n",
    "import torch.nn.functional as F\n",
    "import torch.utils.data as data_utils\n"
   ]
  },
  {
   "cell_type": "code",
   "execution_count": 171,
   "metadata": {
    "id": "8OSfEg2oA8WA"
   },
   "outputs": [],
   "source": [
    "#constant declaration\n",
    "NUM_EPOCHS = 50\n",
    "LEARNING_RATE = 1e-3\n",
    "BATCH_SIZE = 100"
   ]
  },
  {
   "cell_type": "code",
   "execution_count": 172,
   "metadata": {
    "colab": {
     "base_uri": "https://localhost:8080/",
     "height": 435
    },
    "id": "rDh7TRuOA8WB",
    "outputId": "57e0f4d0-1627-4b0f-b53c-89ad99f49fd8"
   },
   "outputs": [],
   "source": [
    "# importing benign and mixed flow datasets from tran_feature_selection\n",
    "\n",
    "# Re-enable these three lines when using real data instead of sample_flows.csv\n",
    "# %store -r benign_flows  \n",
    "# %store -r mixed_flows\n",
    "# %store -r features\n",
    "\n",
    "# This is a subset of mixed data intended only for making sure the model works on our data format\n",
    "# actual analysis should use benign_flows and mixed_flows that were stored by tran_feature_selection\n",
    "benign_flows = pd.read_csv(\"sample_flows.csv\", index_col=None, delimiter=',') \n",
    "\n",
    "features_ori = ['flowInd', 'duration', 'numHdrDesc',\n",
    "            'l4Proto', 'macPairs', 'dstPortClassN', 'numPktsSnt', 'numPktsRcvd',\n",
    "            'numBytesSnt', 'numBytesRcvd', 'minPktSz', 'maxPktSz', 'avePktSize', 'stdPktSize', 'pktps', 'bytps',\n",
    "            'pktAsm', 'bytAsm', 'ipMindIPID', 'ipMaxdIPID', 'ipMinTTL', 'ipMaxTTL', 'ipTTLChg', 'ipOptCnt',\n",
    "            'tcpPSeqCnt', 'tcpSeqSntBytes', 'tcpSeqFaultCnt', 'tcpPAckCnt', 'tcpFlwLssAckRcvdBytes', 'tcpAckFaultCnt',\n",
    "            'tcpInitWinSz', 'tcpAveWinSz', 'tcpMinWinSz', 'tcpMaxWinSz', 'tcpWinSzDwnCnt', 'tcpWinSzUpCnt',\n",
    "            'tcpWinSzChgDirCnt', 'tcpOptPktCnt', 'tcpOptCnt', 'tcpMSS', 'tcpWS', 'tcpTmS', 'tcpTmER', 'tcpEcI',\n",
    "            'tcpBtm', 'tcpSSASAATrip', 'tcpRTTAckTripMin', 'tcpRTTAckTripMax', 'tcpRTTAckTripAve',\n",
    "            'tcpRTTAckTripJitAve', 'tcpRTTSseqAA', 'tcpRTTAckJitAve', 'icmpTCcnt', 'icmpEchoSuccRatio', 'icmpPFindex',\n",
    "            'connSip', 'connDip', 'connSipDip', 'connSipDprt', 'connF',  'aveIAT', 'maxIAT', \n",
    "                'stdIAT', 'tcpISeqN', 'tcpUtm', 'tcpWinSzThRt']\n",
    "benign_flows1 = pd.DataFrame(benign_flows[features_ori])\n",
    "\n",
    "features = benign_flows1.columns\n",
    "dim = len(features)\n",
    "\n",
    "# target = []\n",
    "# for i in range(len(benign_flows1.index)):\n",
    "#     target.append(random.randint(0,1))\n",
    "    \n",
    "# target = np.asarray(target)\n"
   ]
  },
  {
   "cell_type": "code",
   "execution_count": 173,
   "metadata": {
    "id": "4p-DcLYhA8WD"
   },
   "outputs": [
    {
     "name": "stdout",
     "output_type": "stream",
     "text": [
      "tensor([[1.0000e+00, 1.9027e-01, 1.0000e+00,  ..., 5.8152e+08, 0.0000e+00,\n",
      "         3.3333e-01],\n",
      "        [1.0000e+00, 1.8700e-04, 1.0000e+00,  ..., 1.4947e+09, 0.0000e+00,\n",
      "         0.0000e+00],\n",
      "        [2.0000e+00, 1.0197e+01, 1.0000e+00,  ..., 4.0063e+08, 1.3048e+04,\n",
      "         1.1111e-01],\n",
      "        ...,\n",
      "        [5.4600e+02, 0.0000e+00, 1.0000e+00,  ..., 0.0000e+00, 0.0000e+00,\n",
      "         0.0000e+00],\n",
      "        [5.4600e+02, 0.0000e+00, 1.0000e+00,  ..., 0.0000e+00, 0.0000e+00,\n",
      "         0.0000e+00],\n",
      "        [1.3200e+02, 3.0262e+02, 1.0000e+00,  ..., 9.7572e+08, 2.0200e+01,\n",
      "         0.0000e+00]])\n"
     ]
    }
   ],
   "source": [
    "#dataset loading\n",
    "train_tensor = torch.tensor(benign_flows[features].values.astype(np.float32))\n",
    "train_loader = torch.utils.data.DataLoader(train_tensor, batch_size = BATCH_SIZE, shuffle = False)\n",
    "print(train_tensor)\n"
   ]
  },
  {
   "cell_type": "code",
   "execution_count": 174,
   "metadata": {
    "id": "8vliZrXxA8WE"
   },
   "outputs": [],
   "source": [
    "#encoder decoder \n",
    "\n",
    "class Autoencoder(nn.Module):\n",
    "    def __init__(self):\n",
    "        super(Autoencoder, self).__init__()\n",
    "        # encoder\n",
    "        self.enc1 = nn.Linear(in_features=dim, out_features=dim)\n",
    "        self.enc2 = nn.Linear(in_features=dim, out_features=int(dim/2))\n",
    "        self.enc3 = nn.Linear(in_features=int(dim/2), out_features=int(dim/4))\n",
    "        self.enc4 = nn.Linear(in_features=int(dim/4), out_features=int(dim/8))\n",
    "        \n",
    "        # decoder \n",
    "        self.dec1 = nn.Linear(in_features=int(dim/8), out_features=int(dim/4))\n",
    "        self.dec2 = nn.Linear(in_features=int(dim/4), out_features=int(dim/2))\n",
    "        self.dec3 = nn.Linear(in_features=int(dim/2), out_features=dim)\n",
    "        self.dec4 = nn.Linear(in_features=dim, out_features=dim)\n",
    "        \n",
    "    def forward(self, x):\n",
    "        x = F.relu(self.enc1(x))\n",
    "        x = F.relu(self.enc2(x))\n",
    "        x = F.relu(self.enc3(x))\n",
    "        x = F.relu(self.enc4(x))\n",
    "\n",
    "        x = F.relu(self.dec1(x))\n",
    "        x = F.relu(self.dec2(x))\n",
    "        x = F.relu(self.dec3(x))\n",
    "        x = F.relu(self.dec4(x))\n",
    "        return x\n",
    "device = torch.device(\"cuda\" if torch.cuda.is_available() else \"cpu\")\n",
    "net = Autoencoder()\n",
    "optimizer = optim.Adam(net.parameters(), lr=1e-3)\n",
    "\n",
    "#print(net)"
   ]
  },
  {
   "cell_type": "code",
   "execution_count": 175,
   "metadata": {
    "colab": {
     "base_uri": "https://localhost:8080/",
     "height": 866
    },
    "id": "2SWEXnNuA8WE",
    "outputId": "917c311d-e6ef-4c5c-8004-db50030a6065"
   },
   "outputs": [
    {
     "name": "stdout",
     "output_type": "stream",
     "text": [
      "Epoch 1 of 50, Train Loss: -66447977139404.797\n",
      "Epoch 6 of 50, Train Loss: -109192170733096144.000\n",
      "Epoch 11 of 50, Train Loss: -27524978376674639872.000\n",
      "Epoch 16 of 50, Train Loss: -1368524755090605604864.000\n",
      "Epoch 21 of 50, Train Loss: -9081327910871231365120.000\n",
      "Epoch 26 of 50, Train Loss: -15374838973708713852928.000\n",
      "Epoch 31 of 50, Train Loss: -20437369105906841681920.000\n",
      "Epoch 36 of 50, Train Loss: -23506081648112304128000.000\n",
      "Epoch 41 of 50, Train Loss: -25896070945425105879040.000\n",
      "Epoch 46 of 50, Train Loss: -27675573481113405882368.000\n"
     ]
    },
    {
     "data": {
      "text/plain": [
       "[-66447977139404.8,\n",
       " -417625436114124.8,\n",
       " -1852168109817856.0,\n",
       " -7475435457740800.0,\n",
       " -2.9357224152478516e+16,\n",
       " -1.0919217073309614e+17,\n",
       " -3.807411075012362e+17,\n",
       " -1.2368709267845284e+18,\n",
       " -3.732866770286726e+18,\n",
       " -1.049448941451393e+19,\n",
       " -2.752497837667464e+19,\n",
       " -6.763087319128447e+19,\n",
       " -1.565428358982859e+20,\n",
       " -3.432760330449383e+20,\n",
       " -7.139705642420801e+20,\n",
       " -1.3685247550906056e+21,\n",
       " -2.357255827901751e+21,\n",
       " -3.796081478726396e+21,\n",
       " -5.710979869893517e+21,\n",
       " -7.571059342046803e+21,\n",
       " -9.081327910871231e+21,\n",
       " -1.0495838938029688e+22,\n",
       " -1.1784042209710227e+22,\n",
       " -1.299363445588327e+22,\n",
       " -1.4184065586806244e+22,\n",
       " -1.5374838973708714e+22,\n",
       " -1.6545319063284632e+22,\n",
       " -1.766623614000063e+22,\n",
       " -1.8699009435072022e+22,\n",
       " -1.962513202155664e+22,\n",
       " -2.043736910590684e+22,\n",
       " -2.1155626364499533e+22,\n",
       " -2.1800125274561735e+22,\n",
       " -2.2397648989368026e+22,\n",
       " -2.296322252882601e+22,\n",
       " -2.3506081648112304e+22,\n",
       " -2.4028296812064496e+22,\n",
       " -2.4529927733839678e+22,\n",
       " -2.500968889083094e+22,\n",
       " -2.5464311644315906e+22,\n",
       " -2.5896070945425106e+22,\n",
       " -2.630408360308724e+22,\n",
       " -2.6684945606708327e+22,\n",
       " -2.7038669675438876e+22,\n",
       " -2.7368625377891032e+22,\n",
       " -2.7675573481113406e+22,\n",
       " -2.7955930252739397e+22,\n",
       " -2.821191923601346e+22,\n",
       " -2.8453763633755667e+22,\n",
       " -2.8686795813477935e+22]"
      ]
     },
     "execution_count": 175,
     "metadata": {},
     "output_type": "execute_result"
    }
   ],
   "source": [
    "#Trainning model\n",
    "\n",
    "loss_function = nn.BCEWithLogitsLoss()  #MSELoss too\n",
    "get_loss = list()\n",
    "def training(net, trainloader, epochs):\n",
    "    train_loss = []\n",
    "    for epoch in range(epochs):\n",
    "        running_loss = 0.0\n",
    "        for data in train_loader:\n",
    "            input_data = data.to(device=device)\n",
    "            optimizer.zero_grad()\n",
    "            output = net(input_data).to(device=device)          # output is the reconstruced x \n",
    "            loss = loss_function(output,input_data).to(device=device) # input_data should be the target variable\n",
    "            loss.backward()\n",
    "            optimizer.step()\n",
    "            running_loss += loss.item()\n",
    "        \n",
    "        loss = running_loss / len(trainloader)\n",
    "        train_loss.append(loss)\n",
    "        \n",
    "        if epoch % 5 == 0:\n",
    "            print('Epoch {} of {}, Train Loss: {:.3f}'.format(\n",
    "            epoch+1, NUM_EPOCHS, loss))\n",
    "    return train_loss\n",
    "\n",
    "get_loss = training(net, train_loader, NUM_EPOCHS)\n",
    "get_loss\n",
    "#plotting of get_loss \n",
    "\n",
    "\n",
    "            "
   ]
  },
  {
   "cell_type": "code",
   "execution_count": null,
   "metadata": {},
   "outputs": [],
   "source": []
  }
 ],
 "metadata": {
  "colab": {
   "name": "tran_autoencoder.ipynb",
   "provenance": []
  },
  "kernelspec": {
   "display_name": "Python 3",
   "language": "python",
   "name": "python3"
  },
  "language_info": {
   "codemirror_mode": {
    "name": "ipython",
    "version": 3
   },
   "file_extension": ".py",
   "mimetype": "text/x-python",
   "name": "python",
   "nbconvert_exporter": "python",
   "pygments_lexer": "ipython3",
   "version": "3.8.3"
  }
 },
 "nbformat": 4,
 "nbformat_minor": 1
}
