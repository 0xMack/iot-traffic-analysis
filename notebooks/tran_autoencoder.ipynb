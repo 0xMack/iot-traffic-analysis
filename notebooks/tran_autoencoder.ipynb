{
 "cells": [
  {
   "cell_type": "code",
   "execution_count": 131,
   "metadata": {
    "id": "n4RuiY_NA8V4"
   },
   "outputs": [],
   "source": [
    "import os\n",
    "import torch\n",
    "import csv\n",
    "import random\n",
    "import numpy as np\n",
    "import pandas as pd\n",
    "import torch.nn as nn\n",
    "from sklearn.model_selection import train_test_split\n",
    "import torch.optim as optim\n",
    "import matplotlib.pyplot as plt\n",
    "import torch.nn.functional as F\n",
    "import torch.utils.data as data_utils\n"
   ]
  },
  {
   "cell_type": "code",
   "execution_count": 132,
   "metadata": {
    "id": "8OSfEg2oA8WA"
   },
   "outputs": [],
   "source": [
    "#constant declaration\n",
    "NUM_EPOCHS = 50\n",
    "LEARNING_RATE = 1e-3\n",
    "BATCH_SIZE = 100"
   ]
  },
  {
   "cell_type": "code",
   "execution_count": 133,
   "metadata": {
    "colab": {
     "base_uri": "https://localhost:8080/",
     "height": 435
    },
    "id": "rDh7TRuOA8WB",
    "outputId": "57e0f4d0-1627-4b0f-b53c-89ad99f49fd8"
   },
   "outputs": [],
   "source": [
    "# importing benign and mixed flow datasets from tran_feature_selection\n",
    "\n",
    "# Re-enable these three lines when using real data instead of sample_flows.csv\n",
    "# %store -r benign_flows  \n",
    "# %store -r mixed_flows\n",
    "# %store -r features\n",
    "\n",
    "# This is a subset of mixed data intended only for making sure the model works on our data format\n",
    "# actual analysis should use benign_flows and mixed_flows that were stored by tran_feature_selection\n",
    "benign_flows = pd.read_csv(\"sample_flows.csv\", index_col=None, delimiter=',') \n",
    "\n",
    "features_ori = ['flowInd', 'duration', 'numHdrDesc',\n",
    "            'l4Proto', 'macPairs', 'dstPortClassN', 'numPktsSnt', 'numPktsRcvd',\n",
    "            'numBytesSnt', 'numBytesRcvd', 'minPktSz', 'maxPktSz', 'avePktSize', 'stdPktSize', 'pktps', 'bytps',\n",
    "            'pktAsm', 'bytAsm', 'ipMindIPID', 'ipMaxdIPID', 'ipMinTTL', 'ipMaxTTL', 'ipTTLChg', 'ipOptCnt',\n",
    "            'tcpPSeqCnt', 'tcpSeqSntBytes', 'tcpSeqFaultCnt', 'tcpPAckCnt', 'tcpFlwLssAckRcvdBytes', 'tcpAckFaultCnt',\n",
    "            'tcpInitWinSz', 'tcpAveWinSz', 'tcpMinWinSz', 'tcpMaxWinSz', 'tcpWinSzDwnCnt', 'tcpWinSzUpCnt',\n",
    "            'tcpWinSzChgDirCnt', 'tcpOptPktCnt', 'tcpOptCnt', 'tcpMSS', 'tcpWS', 'tcpTmS', 'tcpTmER', 'tcpEcI',\n",
    "            'tcpBtm', 'tcpSSASAATrip', 'tcpRTTAckTripMin', 'tcpRTTAckTripMax', 'tcpRTTAckTripAve',\n",
    "            'tcpRTTAckTripJitAve', 'tcpRTTSseqAA', 'tcpRTTAckJitAve', 'icmpTCcnt', 'icmpEchoSuccRatio', 'icmpPFindex',\n",
    "            'connSip', 'connDip', 'connSipDip', 'connSipDprt', 'connF',  'aveIAT', 'maxIAT', \n",
    "                'stdIAT', 'tcpISeqN', 'tcpUtm', 'tcpWinSzThRt']\n",
    "benign_flows1 = pd.DataFrame(benign_flows[features_ori])\n",
    "#features = benign_flows.columns\n",
    "features = benign_flows1.columns\n",
    "target = []\n",
    "for i in range(len(benign_flows1.index)):\n",
    "    target.append(random.randint(0,1))\n",
    "    \n",
    "target = np.asarray(target)\n"
   ]
  },
  {
   "cell_type": "code",
   "execution_count": 134,
   "metadata": {
    "id": "4p-DcLYhA8WD"
   },
   "outputs": [
    {
     "name": "stdout",
     "output_type": "stream",
     "text": [
      "tensor([[1.0000e+00, 1.9027e-01, 1.0000e+00,  ..., 5.8152e+08, 0.0000e+00,\n",
      "         3.3333e-01],\n",
      "        [1.0000e+00, 1.8700e-04, 1.0000e+00,  ..., 1.4947e+09, 0.0000e+00,\n",
      "         0.0000e+00],\n",
      "        [2.0000e+00, 1.0197e+01, 1.0000e+00,  ..., 4.0063e+08, 1.3048e+04,\n",
      "         1.1111e-01],\n",
      "        ...,\n",
      "        [5.4600e+02, 0.0000e+00, 1.0000e+00,  ..., 0.0000e+00, 0.0000e+00,\n",
      "         0.0000e+00],\n",
      "        [5.4600e+02, 0.0000e+00, 1.0000e+00,  ..., 0.0000e+00, 0.0000e+00,\n",
      "         0.0000e+00],\n",
      "        [1.3200e+02, 3.0262e+02, 1.0000e+00,  ..., 9.7572e+08, 2.0200e+01,\n",
      "         0.0000e+00]])\n"
     ]
    }
   ],
   "source": [
    "#dataset loading\n",
    "train_tensor = torch.tensor(benign_flows[features].values.astype(np.float32))\n",
    "train_loader = torch.utils.data.DataLoader(train_tensor, batch_size = BATCH_SIZE, shuffle = False)\n",
    "print(train_tensor)\n"
   ]
  },
  {
   "cell_type": "code",
   "execution_count": 135,
   "metadata": {
    "id": "8vliZrXxA8WE"
   },
   "outputs": [],
   "source": [
    "#encoder decoder \n",
    "\n",
    "class Autoencoder(nn.Module):\n",
    "    def __init__(self):\n",
    "        super(Autoencoder, self).__init__()\n",
    "        # encoder\n",
    "        self.enc1 = nn.Linear(in_features=len(features), out_features=len(features))\n",
    "        self.enc2 = nn.Linear(in_features=len(features), out_features= 33)\n",
    "        self.enc3 = nn.Linear(in_features=33, out_features=16)\n",
    "#         self.enc4 = nn.Linear(in_features=32, out_features=16)\n",
    "        \n",
    "        # decoder \n",
    "        self.dec1 = nn.Linear(in_features=16, out_features=33)\n",
    "        self.dec2 = nn.Linear(in_features=33, out_features=len(features))\n",
    "        self.dec3 = nn.Linear(in_features=len(features), out_features=len(features))\n",
    "#         self.dec3 = nn.Linear(in_features=70, out_features=len(features))\n",
    "        \n",
    "    def forward(self, x):\n",
    "        x = F.relu(self.enc1(x))\n",
    "        x = F.relu(self.enc2(x))\n",
    "        x = F.relu(self.enc3(x))\n",
    "#         x = F.relu(self.enc4(x))\n",
    "\n",
    "        x = F.relu(self.dec1(x))\n",
    "        x = F.relu(self.dec2(x))\n",
    "        x = F.relu(self.dec3(x))\n",
    "#         x = F.relu(self.dec4(x))\n",
    "        return x\n",
    "device = torch.device(\"cuda\" if torch.cuda.is_available() else \"cpu\")\n",
    "net = Autoencoder()\n",
    "optimizer = optim.Adam(net.parameters(), lr=1e-3)\n",
    "\n",
    "#print(net)"
   ]
  },
  {
   "cell_type": "code",
   "execution_count": 136,
   "metadata": {
    "colab": {
     "base_uri": "https://localhost:8080/",
     "height": 866
    },
    "id": "2SWEXnNuA8WE",
    "outputId": "917c311d-e6ef-4c5c-8004-db50030a6065"
   },
   "outputs": [
    {
     "name": "stdout",
     "output_type": "stream",
     "text": [
      "Epoch 1 of 50, Train Loss: -112170105378508.797\n",
      "Epoch 6 of 50, Train Loss: -78952189575993760.000\n",
      "Epoch 11 of 50, Train Loss: -6434546877659611136.000\n",
      "Epoch 16 of 50, Train Loss: -135504481232380067840.000\n",
      "Epoch 21 of 50, Train Loss: -1218654778000414081024.000\n",
      "Epoch 26 of 50, Train Loss: -4980674124271899901952.000\n",
      "Epoch 31 of 50, Train Loss: -11054886812888908955648.000\n",
      "Epoch 36 of 50, Train Loss: -15230949651042902474752.000\n",
      "Epoch 41 of 50, Train Loss: -18756770118384794730496.000\n",
      "Epoch 46 of 50, Train Loss: -21209018009743964241920.000\n"
     ]
    },
    {
     "data": {
      "text/plain": [
       "[-112170105378508.8,\n",
       " -670448792647884.8,\n",
       " -2478995500024217.5,\n",
       " -8387827888013312.0,\n",
       " -2.660746859881431e+16,\n",
       " -7.895218957599376e+16,\n",
       " -2.186931186308219e+17,\n",
       " -5.630640425328968e+17,\n",
       " -1.351054750783845e+18,\n",
       " -3.037273028804215e+18,\n",
       " -6.434546877659611e+18,\n",
       " -1.2926192455483025e+19,\n",
       " -2.4752768044344594e+19,\n",
       " -4.536898680271479e+19,\n",
       " -7.986076771511812e+19,\n",
       " -1.3550448123238007e+20,\n",
       " -2.224259688245263e+20,\n",
       " -3.543870085579848e+20,\n",
       " -5.497172954954712e+20,\n",
       " -8.32111458905809e+20,\n",
       " -1.218654778000414e+21,\n",
       " -1.685978032102459e+21,\n",
       " -2.2655273397575958e+21,\n",
       " -2.990088196396349e+21,\n",
       " -3.8853827795874197e+21,\n",
       " -4.9806741242719e+21,\n",
       " -6.277512868301124e+21,\n",
       " -7.67192862489135e+21,\n",
       " -8.944390218706457e+21,\n",
       " -1.0035167957365081e+22,\n",
       " -1.105488681288891e+22,\n",
       " -1.1967459060087903e+22,\n",
       " -1.283276471939411e+22,\n",
       " -1.3643179163433138e+22,\n",
       " -1.4440479315882014e+22,\n",
       " -1.5230949651042902e+22,\n",
       " -1.6006969241954672e+22,\n",
       " -1.6756986064319359e+22,\n",
       " -1.747103170695716e+22,\n",
       " -1.813796119817501e+22,\n",
       " -1.8756770118384795e+22,\n",
       " -1.9329997593111924e+22,\n",
       " -1.9856069950981148e+22,\n",
       " -2.0340114096563386e+22,\n",
       " -2.078794583556338e+22,\n",
       " -2.1209018009743964e+22,\n",
       " -2.160435903226349e+22,\n",
       " -2.198337547419881e+22,\n",
       " -2.234727785952038e+22,\n",
       " -2.2702830609224014e+22]"
      ]
     },
     "execution_count": 136,
     "metadata": {},
     "output_type": "execute_result"
    }
   ],
   "source": [
    "#Trainning model\n",
    "\n",
    "loss_function = nn.BCEWithLogitsLoss()  #MSELoss too\n",
    "get_loss = list()\n",
    "def training(net, trainloader, epochs):\n",
    "    train_loss = []\n",
    "    for epoch in range(epochs):\n",
    "        running_loss = 0.0\n",
    "        for data in train_loader:\n",
    "            input_data = data.to(device=device)\n",
    "            optimizer.zero_grad()\n",
    "            output = net(input_data).to(device=device)          # output is the reconstruced x \n",
    "            loss = loss_function(output,input_data).to(device=device) # input_data should be the target variable\n",
    "            loss.backward()\n",
    "            optimizer.step()\n",
    "            running_loss += loss.item()\n",
    "        \n",
    "        loss = running_loss / len(trainloader)\n",
    "        train_loss.append(loss)\n",
    "        \n",
    "        if epoch % 5 == 0:\n",
    "            print('Epoch {} of {}, Train Loss: {:.3f}'.format(\n",
    "            epoch+1, NUM_EPOCHS, loss))\n",
    "    return train_loss\n",
    "\n",
    "get_loss = training(net, train_loader, NUM_EPOCHS)\n",
    "get_loss\n",
    "#plotting of get_loss \n",
    "\n",
    "\n",
    "            "
   ]
  },
  {
   "cell_type": "code",
   "execution_count": null,
   "metadata": {},
   "outputs": [],
   "source": []
  }
 ],
 "metadata": {
  "colab": {
   "name": "tran_autoencoder.ipynb",
   "provenance": []
  },
  "kernelspec": {
   "display_name": "Python 3",
   "language": "python",
   "name": "python3"
  },
  "language_info": {
   "codemirror_mode": {
    "name": "ipython",
    "version": 3
   },
   "file_extension": ".py",
   "mimetype": "text/x-python",
   "name": "python",
   "nbconvert_exporter": "python",
   "pygments_lexer": "ipython3",
   "version": "3.8.3"
  }
 },
 "nbformat": 4,
 "nbformat_minor": 1
}
