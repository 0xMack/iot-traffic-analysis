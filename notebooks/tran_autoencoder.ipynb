{
 "cells": [
  {
   "cell_type": "code",
   "execution_count": 1,
   "metadata": {
    "id": "n4RuiY_NA8V4"
   },
   "outputs": [],
   "source": [
    "import os\n",
    "import torch\n",
    "import csv\n",
    "import random\n",
    "import numpy as np\n",
    "import pandas as pd\n",
    "import seaborn as sns\n",
    "import matplotlib.pyplot as plt\n",
    "\n",
    "from sklearn import preprocessing\n",
    "from sklearn.metrics import confusion_matrix, classification_report, roc_curve, roc_auc_score\n",
    "from sklearn.model_selection import train_test_split\n",
    "\n",
    "import torch.nn as nn\n",
    "import torch.optim as optim\n",
    "import torch.utils.data as data_utils\n",
    "\n",
    "#constant declaration\n",
    "NUM_EPOCHS = 50\n",
    "LEARNING_RATE = 1e-3\n",
    "BATCH_SIZE = 30"
   ]
  },
  {
   "cell_type": "code",
   "execution_count": 2,
   "metadata": {
    "colab": {
     "base_uri": "https://localhost:8080/",
     "height": 435
    },
    "id": "rDh7TRuOA8WB",
    "outputId": "547a63ca-f837-4349-81df-f257aedf1786"
   },
   "outputs": [
    {
     "data": {
      "text/html": [
       "<div>\n",
       "<style scoped>\n",
       "    .dataframe tbody tr th:only-of-type {\n",
       "        vertical-align: middle;\n",
       "    }\n",
       "\n",
       "    .dataframe tbody tr th {\n",
       "        vertical-align: top;\n",
       "    }\n",
       "\n",
       "    .dataframe thead th {\n",
       "        text-align: right;\n",
       "    }\n",
       "</style>\n",
       "<table border=\"1\" class=\"dataframe\">\n",
       "  <thead>\n",
       "    <tr style=\"text-align: right;\">\n",
       "      <th></th>\n",
       "      <th>flowInd</th>\n",
       "      <th>duration</th>\n",
       "      <th>numHdrDesc</th>\n",
       "      <th>l4Proto</th>\n",
       "      <th>macPairs</th>\n",
       "      <th>dstPortClassN</th>\n",
       "      <th>numPktsSnt</th>\n",
       "      <th>numPktsRcvd</th>\n",
       "      <th>numBytesSnt</th>\n",
       "      <th>numBytesRcvd</th>\n",
       "      <th>...</th>\n",
       "      <th>connDip</th>\n",
       "      <th>connSipDip</th>\n",
       "      <th>connSipDprt</th>\n",
       "      <th>connF</th>\n",
       "      <th>aveIAT</th>\n",
       "      <th>maxIAT</th>\n",
       "      <th>stdIAT</th>\n",
       "      <th>tcpISeqN</th>\n",
       "      <th>tcpUtm</th>\n",
       "      <th>tcpWinSzThRt</th>\n",
       "    </tr>\n",
       "  </thead>\n",
       "  <tbody>\n",
       "    <tr>\n",
       "      <th>0</th>\n",
       "      <td>3.737935e-08</td>\n",
       "      <td>2.207732e-12</td>\n",
       "      <td>2.350902e-10</td>\n",
       "      <td>1.410541e-09</td>\n",
       "      <td>2.350902e-10</td>\n",
       "      <td>1.041450e-07</td>\n",
       "      <td>4.701805e-10</td>\n",
       "      <td>0.000000e+00</td>\n",
       "      <td>7.287797e-09</td>\n",
       "      <td>0.000000e+00</td>\n",
       "      <td>...</td>\n",
       "      <td>2.350902e-10</td>\n",
       "      <td>4.701805e-10</td>\n",
       "      <td>1.410541e-09</td>\n",
       "      <td>3.526354e-10</td>\n",
       "      <td>1.103866e-12</td>\n",
       "      <td>2.207732e-12</td>\n",
       "      <td>7.805513e-13</td>\n",
       "      <td>0.327126</td>\n",
       "      <td>0.000192</td>\n",
       "      <td>0.000000e+00</td>\n",
       "    </tr>\n",
       "    <tr>\n",
       "      <th>1</th>\n",
       "      <td>1.128970e-07</td>\n",
       "      <td>0.000000e+00</td>\n",
       "      <td>6.883964e-10</td>\n",
       "      <td>4.130378e-09</td>\n",
       "      <td>6.883964e-10</td>\n",
       "      <td>3.049596e-07</td>\n",
       "      <td>6.883964e-10</td>\n",
       "      <td>0.000000e+00</td>\n",
       "      <td>0.000000e+00</td>\n",
       "      <td>0.000000e+00</td>\n",
       "      <td>...</td>\n",
       "      <td>2.753586e-09</td>\n",
       "      <td>2.065189e-09</td>\n",
       "      <td>4.818775e-09</td>\n",
       "      <td>4.818775e-09</td>\n",
       "      <td>0.000000e+00</td>\n",
       "      <td>0.000000e+00</td>\n",
       "      <td>0.000000e+00</td>\n",
       "      <td>1.000000</td>\n",
       "      <td>0.000000</td>\n",
       "      <td>6.883964e-10</td>\n",
       "    </tr>\n",
       "    <tr>\n",
       "      <th>2</th>\n",
       "      <td>2.955232e-08</td>\n",
       "      <td>8.565862e-12</td>\n",
       "      <td>6.156733e-10</td>\n",
       "      <td>3.694040e-09</td>\n",
       "      <td>6.156733e-10</td>\n",
       "      <td>3.026157e-05</td>\n",
       "      <td>4.309713e-09</td>\n",
       "      <td>3.694040e-09</td>\n",
       "      <td>2.080976e-07</td>\n",
       "      <td>1.188249e-07</td>\n",
       "      <td>...</td>\n",
       "      <td>6.156733e-10</td>\n",
       "      <td>1.231347e-09</td>\n",
       "      <td>1.231347e-09</td>\n",
       "      <td>6.156733e-10</td>\n",
       "      <td>1.223695e-12</td>\n",
       "      <td>2.765604e-12</td>\n",
       "      <td>8.340649e-13</td>\n",
       "      <td>0.292915</td>\n",
       "      <td>0.000078</td>\n",
       "      <td>0.000000e+00</td>\n",
       "    </tr>\n",
       "    <tr>\n",
       "      <th>3</th>\n",
       "      <td>1.777062e-08</td>\n",
       "      <td>4.452282e-12</td>\n",
       "      <td>3.702213e-10</td>\n",
       "      <td>2.221328e-09</td>\n",
       "      <td>3.702213e-10</td>\n",
       "      <td>1.819712e-05</td>\n",
       "      <td>2.221328e-09</td>\n",
       "      <td>2.591549e-09</td>\n",
       "      <td>7.145272e-08</td>\n",
       "      <td>1.251348e-07</td>\n",
       "      <td>...</td>\n",
       "      <td>7.404427e-10</td>\n",
       "      <td>3.702213e-10</td>\n",
       "      <td>3.702213e-10</td>\n",
       "      <td>3.702213e-10</td>\n",
       "      <td>7.420469e-13</td>\n",
       "      <td>1.945143e-12</td>\n",
       "      <td>4.254006e-13</td>\n",
       "      <td>0.818365</td>\n",
       "      <td>0.000303</td>\n",
       "      <td>0.000000e+00</td>\n",
       "    </tr>\n",
       "    <tr>\n",
       "      <th>4</th>\n",
       "      <td>1.895481e-08</td>\n",
       "      <td>7.396806e-10</td>\n",
       "      <td>2.399342e-10</td>\n",
       "      <td>1.439605e-09</td>\n",
       "      <td>2.399342e-10</td>\n",
       "      <td>8.344913e-07</td>\n",
       "      <td>2.159408e-09</td>\n",
       "      <td>1.439605e-09</td>\n",
       "      <td>8.637633e-08</td>\n",
       "      <td>1.007724e-07</td>\n",
       "      <td>...</td>\n",
       "      <td>2.399342e-10</td>\n",
       "      <td>1.439605e-09</td>\n",
       "      <td>1.439605e-09</td>\n",
       "      <td>4.798685e-10</td>\n",
       "      <td>8.218672e-11</td>\n",
       "      <td>4.729656e-10</td>\n",
       "      <td>1.308961e-10</td>\n",
       "      <td>0.531351</td>\n",
       "      <td>0.000196</td>\n",
       "      <td>0.000000e+00</td>\n",
       "    </tr>\n",
       "    <tr>\n",
       "      <th>...</th>\n",
       "      <td>...</td>\n",
       "      <td>...</td>\n",
       "      <td>...</td>\n",
       "      <td>...</td>\n",
       "      <td>...</td>\n",
       "      <td>...</td>\n",
       "      <td>...</td>\n",
       "      <td>...</td>\n",
       "      <td>...</td>\n",
       "      <td>...</td>\n",
       "      <td>...</td>\n",
       "      <td>...</td>\n",
       "      <td>...</td>\n",
       "      <td>...</td>\n",
       "      <td>...</td>\n",
       "      <td>...</td>\n",
       "      <td>...</td>\n",
       "      <td>...</td>\n",
       "      <td>...</td>\n",
       "      <td>...</td>\n",
       "      <td>...</td>\n",
       "    </tr>\n",
       "    <tr>\n",
       "      <th>4487695</th>\n",
       "      <td>2.640112e-05</td>\n",
       "      <td>2.206082e-10</td>\n",
       "      <td>5.146318e-10</td>\n",
       "      <td>3.087791e-09</td>\n",
       "      <td>5.146318e-10</td>\n",
       "      <td>1.789889e-06</td>\n",
       "      <td>2.058527e-09</td>\n",
       "      <td>3.087791e-09</td>\n",
       "      <td>1.255702e-07</td>\n",
       "      <td>1.049849e-07</td>\n",
       "      <td>...</td>\n",
       "      <td>5.146318e-10</td>\n",
       "      <td>5.146318e-10</td>\n",
       "      <td>5.146318e-10</td>\n",
       "      <td>5.146318e-10</td>\n",
       "      <td>5.515206e-11</td>\n",
       "      <td>1.103412e-10</td>\n",
       "      <td>4.303962e-11</td>\n",
       "      <td>0.072076</td>\n",
       "      <td>0.000604</td>\n",
       "      <td>0.000000e+00</td>\n",
       "    </tr>\n",
       "    <tr>\n",
       "      <th>4487696</th>\n",
       "      <td>2.162197e-10</td>\n",
       "      <td>1.868109e-05</td>\n",
       "      <td>2.162197e-10</td>\n",
       "      <td>1.297318e-09</td>\n",
       "      <td>2.162197e-10</td>\n",
       "      <td>9.578533e-08</td>\n",
       "      <td>3.701119e-05</td>\n",
       "      <td>3.672708e-05</td>\n",
       "      <td>5.492824e-03</td>\n",
       "      <td>4.938847e-05</td>\n",
       "      <td>...</td>\n",
       "      <td>2.162197e-10</td>\n",
       "      <td>4.324394e-10</td>\n",
       "      <td>4.324394e-10</td>\n",
       "      <td>4.324394e-10</td>\n",
       "      <td>1.091362e-10</td>\n",
       "      <td>1.361012e-09</td>\n",
       "      <td>9.318933e-11</td>\n",
       "      <td>0.612307</td>\n",
       "      <td>0.000184</td>\n",
       "      <td>0.000000e+00</td>\n",
       "    </tr>\n",
       "    <tr>\n",
       "      <th>4487697</th>\n",
       "      <td>2.584394e-10</td>\n",
       "      <td>2.232860e-05</td>\n",
       "      <td>2.584394e-10</td>\n",
       "      <td>1.550636e-09</td>\n",
       "      <td>2.584394e-10</td>\n",
       "      <td>1.144887e-07</td>\n",
       "      <td>4.389852e-05</td>\n",
       "      <td>4.423811e-05</td>\n",
       "      <td>5.903221e-05</td>\n",
       "      <td>6.565369e-03</td>\n",
       "      <td>...</td>\n",
       "      <td>2.584394e-10</td>\n",
       "      <td>2.584394e-10</td>\n",
       "      <td>2.584394e-10</td>\n",
       "      <td>2.584394e-10</td>\n",
       "      <td>1.314526e-10</td>\n",
       "      <td>1.626820e-09</td>\n",
       "      <td>1.112084e-10</td>\n",
       "      <td>0.327841</td>\n",
       "      <td>0.000858</td>\n",
       "      <td>0.000000e+00</td>\n",
       "    </tr>\n",
       "    <tr>\n",
       "      <th>4487698</th>\n",
       "      <td>3.603214e-04</td>\n",
       "      <td>5.459736e-01</td>\n",
       "      <td>6.321428e-06</td>\n",
       "      <td>0.000000e+00</td>\n",
       "      <td>6.321428e-06</td>\n",
       "      <td>0.000000e+00</td>\n",
       "      <td>1.511453e-02</td>\n",
       "      <td>1.511453e-02</td>\n",
       "      <td>4.232070e-01</td>\n",
       "      <td>4.232070e-01</td>\n",
       "      <td>...</td>\n",
       "      <td>0.000000e+00</td>\n",
       "      <td>0.000000e+00</td>\n",
       "      <td>0.000000e+00</td>\n",
       "      <td>0.000000e+00</td>\n",
       "      <td>2.283452e-04</td>\n",
       "      <td>4.167075e-04</td>\n",
       "      <td>8.597863e-05</td>\n",
       "      <td>0.000000</td>\n",
       "      <td>0.000000</td>\n",
       "      <td>0.000000e+00</td>\n",
       "    </tr>\n",
       "    <tr>\n",
       "      <th>4487699</th>\n",
       "      <td>3.603214e-04</td>\n",
       "      <td>5.459736e-01</td>\n",
       "      <td>6.321428e-06</td>\n",
       "      <td>0.000000e+00</td>\n",
       "      <td>6.321428e-06</td>\n",
       "      <td>0.000000e+00</td>\n",
       "      <td>1.511453e-02</td>\n",
       "      <td>1.511453e-02</td>\n",
       "      <td>4.232070e-01</td>\n",
       "      <td>4.232070e-01</td>\n",
       "      <td>...</td>\n",
       "      <td>0.000000e+00</td>\n",
       "      <td>0.000000e+00</td>\n",
       "      <td>0.000000e+00</td>\n",
       "      <td>0.000000e+00</td>\n",
       "      <td>2.283451e-04</td>\n",
       "      <td>4.166951e-04</td>\n",
       "      <td>8.597502e-05</td>\n",
       "      <td>0.000000</td>\n",
       "      <td>0.000000</td>\n",
       "      <td>0.000000e+00</td>\n",
       "    </tr>\n",
       "  </tbody>\n",
       "</table>\n",
       "<p>4487700 rows × 66 columns</p>\n",
       "</div>"
      ],
      "text/plain": [
       "              flowInd      duration    numHdrDesc       l4Proto      macPairs  \\\n",
       "0        3.737935e-08  2.207732e-12  2.350902e-10  1.410541e-09  2.350902e-10   \n",
       "1        1.128970e-07  0.000000e+00  6.883964e-10  4.130378e-09  6.883964e-10   \n",
       "2        2.955232e-08  8.565862e-12  6.156733e-10  3.694040e-09  6.156733e-10   \n",
       "3        1.777062e-08  4.452282e-12  3.702213e-10  2.221328e-09  3.702213e-10   \n",
       "4        1.895481e-08  7.396806e-10  2.399342e-10  1.439605e-09  2.399342e-10   \n",
       "...               ...           ...           ...           ...           ...   \n",
       "4487695  2.640112e-05  2.206082e-10  5.146318e-10  3.087791e-09  5.146318e-10   \n",
       "4487696  2.162197e-10  1.868109e-05  2.162197e-10  1.297318e-09  2.162197e-10   \n",
       "4487697  2.584394e-10  2.232860e-05  2.584394e-10  1.550636e-09  2.584394e-10   \n",
       "4487698  3.603214e-04  5.459736e-01  6.321428e-06  0.000000e+00  6.321428e-06   \n",
       "4487699  3.603214e-04  5.459736e-01  6.321428e-06  0.000000e+00  6.321428e-06   \n",
       "\n",
       "         dstPortClassN    numPktsSnt   numPktsRcvd   numBytesSnt  \\\n",
       "0         1.041450e-07  4.701805e-10  0.000000e+00  7.287797e-09   \n",
       "1         3.049596e-07  6.883964e-10  0.000000e+00  0.000000e+00   \n",
       "2         3.026157e-05  4.309713e-09  3.694040e-09  2.080976e-07   \n",
       "3         1.819712e-05  2.221328e-09  2.591549e-09  7.145272e-08   \n",
       "4         8.344913e-07  2.159408e-09  1.439605e-09  8.637633e-08   \n",
       "...                ...           ...           ...           ...   \n",
       "4487695   1.789889e-06  2.058527e-09  3.087791e-09  1.255702e-07   \n",
       "4487696   9.578533e-08  3.701119e-05  3.672708e-05  5.492824e-03   \n",
       "4487697   1.144887e-07  4.389852e-05  4.423811e-05  5.903221e-05   \n",
       "4487698   0.000000e+00  1.511453e-02  1.511453e-02  4.232070e-01   \n",
       "4487699   0.000000e+00  1.511453e-02  1.511453e-02  4.232070e-01   \n",
       "\n",
       "         numBytesRcvd  ...       connDip    connSipDip   connSipDprt  \\\n",
       "0        0.000000e+00  ...  2.350902e-10  4.701805e-10  1.410541e-09   \n",
       "1        0.000000e+00  ...  2.753586e-09  2.065189e-09  4.818775e-09   \n",
       "2        1.188249e-07  ...  6.156733e-10  1.231347e-09  1.231347e-09   \n",
       "3        1.251348e-07  ...  7.404427e-10  3.702213e-10  3.702213e-10   \n",
       "4        1.007724e-07  ...  2.399342e-10  1.439605e-09  1.439605e-09   \n",
       "...               ...  ...           ...           ...           ...   \n",
       "4487695  1.049849e-07  ...  5.146318e-10  5.146318e-10  5.146318e-10   \n",
       "4487696  4.938847e-05  ...  2.162197e-10  4.324394e-10  4.324394e-10   \n",
       "4487697  6.565369e-03  ...  2.584394e-10  2.584394e-10  2.584394e-10   \n",
       "4487698  4.232070e-01  ...  0.000000e+00  0.000000e+00  0.000000e+00   \n",
       "4487699  4.232070e-01  ...  0.000000e+00  0.000000e+00  0.000000e+00   \n",
       "\n",
       "                connF        aveIAT        maxIAT        stdIAT  tcpISeqN  \\\n",
       "0        3.526354e-10  1.103866e-12  2.207732e-12  7.805513e-13  0.327126   \n",
       "1        4.818775e-09  0.000000e+00  0.000000e+00  0.000000e+00  1.000000   \n",
       "2        6.156733e-10  1.223695e-12  2.765604e-12  8.340649e-13  0.292915   \n",
       "3        3.702213e-10  7.420469e-13  1.945143e-12  4.254006e-13  0.818365   \n",
       "4        4.798685e-10  8.218672e-11  4.729656e-10  1.308961e-10  0.531351   \n",
       "...               ...           ...           ...           ...       ...   \n",
       "4487695  5.146318e-10  5.515206e-11  1.103412e-10  4.303962e-11  0.072076   \n",
       "4487696  4.324394e-10  1.091362e-10  1.361012e-09  9.318933e-11  0.612307   \n",
       "4487697  2.584394e-10  1.314526e-10  1.626820e-09  1.112084e-10  0.327841   \n",
       "4487698  0.000000e+00  2.283452e-04  4.167075e-04  8.597863e-05  0.000000   \n",
       "4487699  0.000000e+00  2.283451e-04  4.166951e-04  8.597502e-05  0.000000   \n",
       "\n",
       "           tcpUtm  tcpWinSzThRt  \n",
       "0        0.000192  0.000000e+00  \n",
       "1        0.000000  6.883964e-10  \n",
       "2        0.000078  0.000000e+00  \n",
       "3        0.000303  0.000000e+00  \n",
       "4        0.000196  0.000000e+00  \n",
       "...           ...           ...  \n",
       "4487695  0.000604  0.000000e+00  \n",
       "4487696  0.000184  0.000000e+00  \n",
       "4487697  0.000858  0.000000e+00  \n",
       "4487698  0.000000  0.000000e+00  \n",
       "4487699  0.000000  0.000000e+00  \n",
       "\n",
       "[4487700 rows x 66 columns]"
      ]
     },
     "execution_count": 2,
     "metadata": {},
     "output_type": "execute_result"
    }
   ],
   "source": [
    "# For full dataset, run tran_feature_selection notebook before this one\n",
    "# For small subset of data, run tran_sample_preprocessing notebook beofore this one (ideal for testing model on CPU)\n",
    "\n",
    "%store -r benign_flows  \n",
    "%store -r mixed_flows\n",
    "%store -r features\n",
    "\n",
    "dim = len(features)\n",
    "\n",
    "#TODO look into scalars vs normalizers --> https://datascience.stackexchange.com/questions/45900/when-to-use-standard-scaler-and-when-normalizer\n",
    "\n",
    "normalizer = preprocessing.Normalizer(norm=\"l2\")\n",
    "normalized_train = normalizer.fit_transform(benign_flows[features]) #axis?\n",
    "train_X = pd.DataFrame(normalized_train, columns = features)\n",
    "\n",
    "normalized_test = normalizer.transform(mixed_flows[features])\n",
    "test_X = pd.DataFrame(normalized_test, columns = features)\n",
    "test_y = mixed_flows.is_attack\n",
    "train_X"
   ]
  },
  {
   "cell_type": "code",
   "execution_count": 3,
   "metadata": {
    "colab": {
     "base_uri": "https://localhost:8080/"
    },
    "id": "4p-DcLYhA8WD",
    "outputId": "42c216a6-88e2-4793-aaee-647a499550ad"
   },
   "outputs": [
    {
     "data": {
      "text/plain": [
       "tensor([[3.7379e-08, 2.2077e-12, 2.3509e-10,  ..., 3.2713e-01, 1.9241e-04,\n",
       "         0.0000e+00],\n",
       "        [1.1290e-07, 0.0000e+00, 6.8840e-10,  ..., 1.0000e+00, 0.0000e+00,\n",
       "         6.8840e-10],\n",
       "        [2.9552e-08, 8.5659e-12, 6.1567e-10,  ..., 2.9292e-01, 7.7696e-05,\n",
       "         0.0000e+00],\n",
       "        ...,\n",
       "        [2.5844e-10, 2.2329e-05, 2.5844e-10,  ..., 3.2784e-01, 8.5822e-04,\n",
       "         0.0000e+00],\n",
       "        [3.6032e-04, 5.4597e-01, 6.3214e-06,  ..., 0.0000e+00, 0.0000e+00,\n",
       "         0.0000e+00],\n",
       "        [3.6032e-04, 5.4597e-01, 6.3214e-06,  ..., 0.0000e+00, 0.0000e+00,\n",
       "         0.0000e+00]])"
      ]
     },
     "execution_count": 3,
     "metadata": {},
     "output_type": "execute_result"
    }
   ],
   "source": [
    "#dataset loading\n",
    "train_tensor = torch.tensor(train_X.values.astype(np.float32))\n",
    "train_loader = torch.utils.data.DataLoader(train_tensor, batch_size = BATCH_SIZE, shuffle = True)\n",
    "train_tensor"
   ]
  },
  {
   "cell_type": "code",
   "execution_count": 5,
   "metadata": {
    "id": "8vliZrXxA8WE"
   },
   "outputs": [],
   "source": [
    "class Autoencoder(nn.Module):\n",
    "    def __init__(self):\n",
    "        super(Autoencoder, self).__init__()\n",
    "        # encoder\n",
    "        self.enc1 = nn.Linear(in_features=dim, out_features=int(dim/2))\n",
    "        self.enc2 = nn.Linear(in_features=int(dim/2), out_features=int(dim/4))\n",
    "        self.enc3 = nn.Linear(in_features=int(dim/4), out_features=int(dim/8))\n",
    "        \n",
    "        # decoder \n",
    "        self.dec1 = nn.Linear(in_features=int(dim/8), out_features=int(dim/4))\n",
    "        self.dec2 = nn.Linear(in_features=int(dim/4), out_features=int(dim/2))\n",
    "        self.dec3 = nn.Linear(in_features=int(dim/2), out_features=dim)\n",
    "        \n",
    "    def forward(self, x):\n",
    "#         x = F.relu(self.enc1(x))\n",
    "#         x = F.relu(self.enc2(x))\n",
    "#         x = F.relu(self.enc3(x))\n",
    "        \n",
    "#         x = F.relu(self.dec1(x))\n",
    "#         x = F.relu(self.dec2(x))\n",
    "#         x = F.relu(self.dec3(x))\n",
    "        \n",
    "        #sigmoid activation\n",
    "        x = torch.sigmoid(self.enc1(x))\n",
    "        x = torch.sigmoid(self.enc2(x))\n",
    "        x = torch.sigmoid(self.enc3(x))\n",
    "\n",
    "        x = torch.sigmoid(self.dec1(x))\n",
    "        x = torch.sigmoid(self.dec2(x))\n",
    "        x = torch.sigmoid(self.dec3(x))\n",
    "        return x\n",
    "device = torch.device(\"cuda\" if torch.cuda.is_available() else \"cpu\")\n",
    "net = Autoencoder()\n",
    "net.to(device)\n",
    "optimizer = optim.Adam(net.parameters(), lr=LEARNING_RATE)\n"
   ]
  },
  {
   "cell_type": "code",
   "execution_count": 6,
   "metadata": {},
   "outputs": [],
   "source": [
    "import pickle\n",
    "loaded_model = pickle.load(open(\"model\", 'rb'))"
   ]
  },
  {
   "cell_type": "code",
   "execution_count": 9,
   "metadata": {
    "colab": {
     "base_uri": "https://localhost:8080/"
    },
    "id": "2SWEXnNuA8WE",
    "outputId": "8240eb62-7a2b-45bc-8b0b-03e98a913d26"
   },
   "outputs": [],
   "source": [
    "#Trainning model\n",
    "\n",
    "loss_function = nn.BCELoss()  # Alternative loss functions - BCEWithLogitsLoss(), MSELoss()\n",
    "\n",
    "\n",
    "# train_loss = []\n",
    "# for epoch in range(NUM_EPOCHS):\n",
    "#     running_loss = 0.0\n",
    "#     print(f\"epoch: {epoch}\")\n",
    "#     for data in train_loader:\n",
    "#         input_data = data.to(device=device)\n",
    "#         optimizer.zero_grad()\n",
    "#         output = net(input_data).to(device=device)                  # output is the reconstruced x \n",
    "#         loss = loss_function(output, input_data).to(device=device)  # input_data should be the target variable\n",
    "#         loss.backward()\n",
    "#         optimizer.step()\n",
    "#         running_loss += loss.item()\n",
    "    \n",
    "#     loss = running_loss / len(train_loader)\n",
    "#     train_loss.append(loss)\n",
    "    \n",
    "# #     if epoch % 5 == 0:\n",
    "#     print('Epoch {} of {}, Train Loss: {:.3f}'.format(\n",
    "#       epoch+1, NUM_EPOCHS, loss))\n",
    "# print(\"Completed training with final loss {:.3f}\".format(train_loss[-1]))"
   ]
  },
  {
   "cell_type": "code",
   "execution_count": 7,
   "metadata": {
    "colab": {
     "base_uri": "https://localhost:8080/",
     "height": 639
    },
    "id": "hhz3kZTrnVt6",
    "outputId": "d07e7fd8-5c81-411e-dec5-f778ba39aebb"
   },
   "outputs": [
    {
     "ename": "NameError",
     "evalue": "name 'train_loss' is not defined",
     "output_type": "error",
     "traceback": [
      "\u001b[0;31m---------------------------------------------------------------------------\u001b[0m",
      "\u001b[0;31mNameError\u001b[0m                                 Traceback (most recent call last)",
      "\u001b[0;32m<ipython-input-7-0d616a2a3e45>\u001b[0m in \u001b[0;36m<module>\u001b[0;34m\u001b[0m\n\u001b[1;32m      3\u001b[0m \u001b[0mplt\u001b[0m\u001b[0;34m.\u001b[0m\u001b[0mylabel\u001b[0m\u001b[0;34m(\u001b[0m\u001b[0;34m\"loss value \"\u001b[0m\u001b[0;34m)\u001b[0m\u001b[0;34m\u001b[0m\u001b[0;34m\u001b[0m\u001b[0m\n\u001b[1;32m      4\u001b[0m \u001b[0max\u001b[0m\u001b[0;34m.\u001b[0m\u001b[0mset_title\u001b[0m\u001b[0;34m(\u001b[0m\u001b[0;34m'Loss graph'\u001b[0m\u001b[0;34m)\u001b[0m\u001b[0;34m\u001b[0m\u001b[0;34m\u001b[0m\u001b[0m\n\u001b[0;32m----> 5\u001b[0;31m \u001b[0max\u001b[0m\u001b[0;34m.\u001b[0m\u001b[0mplot\u001b[0m\u001b[0;34m(\u001b[0m\u001b[0mtrain_loss\u001b[0m\u001b[0;34m)\u001b[0m\u001b[0;34m\u001b[0m\u001b[0;34m\u001b[0m\u001b[0m\n\u001b[0m",
      "\u001b[0;31mNameError\u001b[0m: name 'train_loss' is not defined"
     ]
    },
    {
     "data": {
      "image/png": "[encoded data removed]",
      "text/plain": [
       "<Figure size 1080x720 with 1 Axes>"
      ]
     },
     "metadata": {
      "needs_background": "light"
     },
     "output_type": "display_data"
    }
   ],
   "source": [
    "_, ax = plt.subplots(1,1,figsize=(15,10))\n",
    "plt.xlabel(\"epochs\")\n",
    "plt.ylabel(\"loss value \")\n",
    "ax.set_title('Loss graph')\n",
    "ax.plot(train_loss)"
   ]
  },
  {
   "cell_type": "code",
   "execution_count": 10,
   "metadata": {
    "id": "_HARKdfRjolf"
   },
   "outputs": [],
   "source": [
    "# Calculate reconstruction loss for test partition (mixed flow data)\n",
    "test_loss = []\n",
    "net.eval()\n",
    "test_tensor = torch.tensor(test_X.values.astype(np.float32))\n",
    "with torch.no_grad():\n",
    "    for i in range(len(test_X)):\n",
    "        input = test_tensor[i].to(device=device)\n",
    "        output = net(input).to(device=device)\n",
    "        loss = loss_function(output, input).to(device=device)\n",
    "        test_loss.append(loss.item())"
   ]
  },
  {
   "cell_type": "code",
   "execution_count": 11,
   "metadata": {
    "colab": {
     "base_uri": "https://localhost:8080/",
     "height": 639
    },
    "id": "ofAkJMvVmUwF",
    "outputId": "79fe6927-2572-4532-b16c-247044920df9"
   },
   "outputs": [
    {
     "name": "stdout",
     "output_type": "stream",
     "text": [
      "Attack Threshold: 0.6892195343971252\n"
     ]
    },
    {
     "data": {
      "image/png": "[encoded data removed]",
      "text/plain": [
       "<Figure size 720x720 with 1 Axes>"
      ]
     },
     "metadata": {
      "needs_background": "light"
     },
     "output_type": "display_data"
    }
   ],
   "source": [
    "fpr, tpr, thresholds = roc_curve(y_true=test_y.astype(int), y_score=test_loss, pos_label=1)\n",
    "auc = roc_auc_score(y_true=test_y.astype(int),  y_score=test_loss)\n",
    "plt.figure(figsize=(10, 10))\n",
    "plt.plot([0,1], [0,1], linestyle=\"--\") # plot random curve\n",
    "plt.plot(fpr, tpr, marker=\".\", label=f\"AUC = {auc}\")\n",
    "plt.title(\"ROC Curve\")\n",
    "plt.ylabel(\"True Positive Rate\")\n",
    "plt.xlabel(\"False Positive Rate\")\n",
    "plt.legend(loc=\"lower right\")\n",
    "\n",
    "ranked_thresholds = sorted(list(zip(np.abs(tpr - fpr), thresholds)), key=lambda i: i[0], reverse=True)\n",
    "attack_threshold = ranked_thresholds[0][1]\n",
    "print(f\"Attack Threshold: {attack_threshold}\")"
   ]
  },
  {
   "cell_type": "code",
   "execution_count": 12,
   "metadata": {
    "colab": {
     "base_uri": "https://localhost:8080/",
     "height": 437
    },
    "id": "rz8pU2l6JbU3",
    "outputId": "6790f36d-8450-4faa-ef7a-52b1c5c39264"
   },
   "outputs": [
    {
     "name": "stdout",
     "output_type": "stream",
     "text": [
      "              precision    recall  f1-score   support\n",
      "\n",
      "      benign       0.43      0.78      0.56    886931\n",
      "      attack       0.72      0.35      0.47   1393738\n",
      "\n",
      "    accuracy                           0.52   2280669\n",
      "   macro avg       0.57      0.57      0.51   2280669\n",
      "weighted avg       0.61      0.52      0.50   2280669\n",
      "\n"
     ]
    },
    {
     "data": {
      "image/png": "[encoded data removed]",
      "text/plain": [
       "<Figure size 432x288 with 2 Axes>"
      ]
     },
     "metadata": {
      "needs_background": "light"
     },
     "output_type": "display_data"
    }
   ],
   "source": [
    "test_results = test_y.to_frame().astype(bool)\n",
    "test_results['loss'] = pd.Series(test_loss, index=test_results.index)\n",
    "test_results['is_attack_prediction'] = test_results.loss > attack_threshold\n",
    "\n",
    "conf_matrix = confusion_matrix(test_results.is_attack, test_results.is_attack_prediction)\n",
    "plt.figure()\n",
    "sns.heatmap(conf_matrix, annot=True, annot_kws={\"size\": 16}, fmt='g')\n",
    "plt.title('Attack Threshold Classification - Confusion Matrix')\n",
    "print(classification_report(test_results.is_attack, test_results.is_attack_prediction, target_names=[\"benign\", \"attack\"]))"
   ]
  },
  {
   "cell_type": "code",
   "execution_count": 13,
   "metadata": {
    "colab": {
     "base_uri": "https://localhost:8080/",
     "height": 291
    },
    "id": "ALKKNQ76z0L_",
    "outputId": "d1d6d8c5-164b-4b7e-923a-5c7e357dedc5"
   },
   "outputs": [
    {
     "data": {
      "image/png": "[encoded data removed]",
      "text/plain": [
       "<Figure size 1440x288 with 2 Axes>"
      ]
     },
     "metadata": {
      "needs_background": "light"
     },
     "output_type": "display_data"
    }
   ],
   "source": [
    "fig, (benign_ax, attack_ax) = plt.subplots(nrows=2, sharex=True, figsize=(20, 4))\n",
    "fig.suptitle('Loss Projection with Attack Threshold')\n",
    "fig.subplots_adjust(hspace=0.02)\n",
    "attack_loss_points = [(i, 'attack') for i in test_results[test_results['is_attack'] == True].loss]\n",
    "benign_loss_points = [(i, 'benign') for i in test_results[test_results['is_attack'] == False].loss]\n",
    "benign_ax.scatter(*zip(*benign_loss_points), label=\"benign\", color=['blue'], alpha=0.01)\n",
    "attack_ax.scatter(*zip(*attack_loss_points), label=\"attack\", color=['red'], alpha=0.01)\n",
    "for ax in (benign_ax, attack_ax):\n",
    "  ax.axvline(attack_threshold, 0.0, 10, color='purple')\n",
    "  ax.legend()\n",
    "  ax.grid(True)\n",
    "plt.show()"
   ]
  },
  {
   "cell_type": "code",
   "execution_count": 14,
   "metadata": {
    "colab": {
     "base_uri": "https://localhost:8080/",
     "height": 475
    },
    "id": "ZbRZ_zeO7trh",
    "outputId": "49426c52-ae53-4636-d807-0318b251dd3c"
   },
   "outputs": [
    {
     "data": {
      "text/plain": [
       "Text(0.5, 1.0, 'Loss Distribution')"
      ]
     },
     "execution_count": 14,
     "metadata": {},
     "output_type": "execute_result"
    },
    {
     "data": {
      "image/png": "[encoded data removed]",
      "text/plain": [
       "<Figure size 1152x432 with 1 Axes>"
      ]
     },
     "metadata": {
      "needs_background": "light"
     },
     "output_type": "display_data"
    }
   ],
   "source": [
    "sns.displot(test_results.loss, bins=100, kde=True, color='purple', height=6, aspect=16/6)\n",
    "plt.axvline(attack_threshold, 0.0, 10, color='r')\n",
    "plt.title('Loss Distribution')"
   ]
  },
  {
   "cell_type": "code",
   "execution_count": null,
   "metadata": {},
   "outputs": [],
   "source": []
  },
  {
   "cell_type": "code",
   "execution_count": null,
   "metadata": {},
   "outputs": [],
   "source": []
  },
  {
   "cell_type": "code",
   "execution_count": null,
   "metadata": {},
   "outputs": [],
   "source": []
  }
 ],
 "metadata": {
  "colab": {
   "name": "tran_autoencoder.ipynb",
   "provenance": []
  },
  "kernelspec": {
   "display_name": "Python 3",
   "language": "python",
   "name": "python3"
  },
  "language_info": {
   "codemirror_mode": {
    "name": "ipython",
    "version": 3
   },
   "file_extension": ".py",
   "mimetype": "text/x-python",
   "name": "python",
   "nbconvert_exporter": "python",
   "pygments_lexer": "ipython3",
   "version": "3.8.5"
  }
 },
 "nbformat": 4,
 "nbformat_minor": 1
}
