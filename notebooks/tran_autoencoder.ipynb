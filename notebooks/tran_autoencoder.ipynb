{
  "nbformat": 4,
  "nbformat_minor": 0,
  "metadata": {
    "colab": {
      "name": "tran_autoencoder.ipynb",
      "provenance": []
    },
    "kernelspec": {
      "display_name": "Python 3",
      "language": "python",
      "name": "python3"
    },
    "language_info": {
      "codemirror_mode": {
        "name": "ipython",
        "version": 3
      },
      "file_extension": ".py",
      "mimetype": "text/x-python",
      "name": "python",
      "nbconvert_exporter": "python",
      "pygments_lexer": "ipython3",
      "version": "3.8.3"
    }
  },
  "cells": [
    {
      "cell_type": "code",
      "metadata": {
        "id": "n4RuiY_NA8V4"
      },
      "source": [
        "import os\n",
        "import torch\n",
        "import csv\n",
        "import random\n",
        "import numpy as np\n",
        "import pandas as pd\n",
        "import seaborn as sns\n",
        "import matplotlib.pyplot as plt\n",
        "\n",
        "from sklearn import preprocessing\n",
        "from sklearn.metrics import confusion_matrix, classification_report\n",
        "from sklearn.model_selection import train_test_split\n",
        "\n",
        "import torch.nn as nn\n",
        "import torch.optim as optim\n",
        "import torch.utils.data as data_utils\n",
        "\n",
        "#constant declaration\n",
        "NUM_EPOCHS = 50\n",
        "LEARNING_RATE = 1e-3\n",
        "BATCH_SIZE = 30"
      ],
      "execution_count": 182,
      "outputs": []
    },
    {
      "cell_type": "code",
      "metadata": {
        "colab": {
          "base_uri": "https://localhost:8080/",
          "height": 435
        },
        "id": "rDh7TRuOA8WB",
        "outputId": "576b68dd-dd39-4614-b2b1-231600419280"
      },
      "source": [
        "# For full dataset, run tran_feature_selection notebook before this one\n",
        "# For small subset of data, run tran_sample_preprocessing notebook beofore this one (ideal for testing model on CPU)\n",
        "\n",
        "%store -r benign_flows  \n",
        "%store -r mixed_flows\n",
        "%store -r features\n",
        "\n",
        "dim = len(features)\n",
        "\n",
        "#TODO look into scalars vs normalizers --> https://datascience.stackexchange.com/questions/45900/when-to-use-standard-scaler-and-when-normalizer\n",
        "\n",
        "normalizer = preprocessing.Normalizer(norm=\"l2\")\n",
        "normalized_train = normalizer.fit_transform(benign_flows[features]) #axis?\n",
        "train_X = pd.DataFrame(normalized_train, columns = features)\n",
        "\n",
        "normalized_test = normalizer.transform(mixed_flows[features])\n",
        "test_X = pd.DataFrame(normalized_test, columns = features)\n",
        "test_y = mixed_flows.is_attack\n",
        "train_X"
      ],
      "execution_count": 156,
      "outputs": [
        {
          "output_type": "execute_result",
          "data": {
            "text/plain": [
              "        flowInd      duration  numHdrDesc   l4Proto  macPairs  dstPortClassN  \\\n",
              "0      0.977842  0.000000e+00    0.000002  0.000038  0.000002       0.000119   \n",
              "1      0.948144  0.000000e+00    0.000003  0.000058  0.000003       0.000422   \n",
              "2      0.999879  8.136645e-05    0.000009  0.000159  0.000009       0.000496   \n",
              "3      0.956680  0.000000e+00    0.000003  0.000053  0.000003       0.000166   \n",
              "4      0.976209  0.000000e+00    0.000003  0.000056  0.000003       0.000175   \n",
              "...         ...           ...         ...       ...       ...            ...   \n",
              "49995  0.716137  0.000000e+00    0.000011  0.000181  0.000011       0.001309   \n",
              "49996  0.995059  0.000000e+00    0.000001  0.000018  0.000001       0.000057   \n",
              "49997  0.989679  0.000000e+00    0.000002  0.000026  0.000002       0.000190   \n",
              "49998  0.989589  0.000000e+00    0.000002  0.000026  0.000002       0.000082   \n",
              "49999  0.997970  7.165273e-09    0.000003  0.000045  0.000003       0.000139   \n",
              "\n",
              "       numPktsSnt  numPktsRcvd  numBytesSnt  numBytesRcvd  ...   connDip  \\\n",
              "0        0.000002     0.000002     0.000074      0.000110  ...  0.000009   \n",
              "1        0.000003     0.000003     0.000165      0.000165  ...  0.000003   \n",
              "2        0.000028     0.000019     0.001030      0.005226  ...  0.000103   \n",
              "3        0.000003     0.000003     0.000104      0.000154  ...  0.000009   \n",
              "4        0.000003     0.000003     0.000162      0.000109  ...  0.000030   \n",
              "...           ...          ...          ...           ...  ...       ...   \n",
              "49995    0.000011     0.000011     0.000511      0.000511  ...  0.000128   \n",
              "49996    0.000001     0.000001     0.000035      0.000052  ...  0.000003   \n",
              "49997    0.000002     0.000002     0.000074      0.000074  ...  0.000003   \n",
              "49998    0.000002     0.000002     0.000051      0.000076  ...  0.000006   \n",
              "49999    0.000005     0.000005     0.000173      0.000288  ...  0.000005   \n",
              "\n",
              "       connSipDip  connSipDprt     connF        aveIAT        maxIAT  \\\n",
              "0        0.010389     0.010385  0.001038  0.000000e+00  0.000000e+00   \n",
              "1        0.007540     0.007540  0.000838  0.000000e+00  0.000000e+00   \n",
              "2        0.000150     0.000094  0.000010  2.712215e-05  4.683897e-05   \n",
              "3        0.006951     0.006945  0.000631  0.000000e+00  0.000000e+00   \n",
              "4        0.007286     0.007280  0.003640  0.000000e+00  0.000000e+00   \n",
              "...           ...          ...       ...           ...           ...   \n",
              "49995    0.011806     0.011806  0.011806  0.000000e+00  0.000000e+00   \n",
              "49996    0.004926     0.004924  0.000547  0.000000e+00  0.000000e+00   \n",
              "49997    0.003858     0.003858  0.000386  0.000000e+00  0.000000e+00   \n",
              "49998    0.007153     0.007150  0.000794  0.000000e+00  0.000000e+00   \n",
              "49999    0.005728     0.005723  0.000572  3.582637e-09  7.165273e-09   \n",
              "\n",
              "             stdIAT  tcpISeqN  tcpUtm  tcpWinSzThRt  \n",
              "0      0.000000e+00       0.0     0.0           0.0  \n",
              "1      0.000000e+00       0.0     0.0           0.0  \n",
              "2      1.418111e-05       0.0     0.0           0.0  \n",
              "3      0.000000e+00       0.0     0.0           0.0  \n",
              "4      0.000000e+00       0.0     0.0           0.0  \n",
              "...             ...       ...     ...           ...  \n",
              "49995  0.000000e+00       0.0     0.0           0.0  \n",
              "49996  0.000000e+00       0.0     0.0           0.0  \n",
              "49997  0.000000e+00       0.0     0.0           0.0  \n",
              "49998  0.000000e+00       0.0     0.0           0.0  \n",
              "49999  2.533307e-09       0.0     0.0           0.0  \n",
              "\n",
              "[50000 rows x 66 columns]"
            ],
            "text/html": [
              "<div>\n",
              "<style scoped>\n",
              "    .dataframe tbody tr th:only-of-type {\n",
              "        vertical-align: middle;\n",
              "    }\n",
              "\n",
              "    .dataframe tbody tr th {\n",
              "        vertical-align: top;\n",
              "    }\n",
              "\n",
              "    .dataframe thead th {\n",
              "        text-align: right;\n",
              "    }\n",
              "</style>\n",
              "<table border=\"1\" class=\"dataframe\">\n",
              "  <thead>\n",
              "    <tr style=\"text-align: right;\">\n",
              "      <th></th>\n",
              "      <th>flowInd</th>\n",
              "      <th>duration</th>\n",
              "      <th>numHdrDesc</th>\n",
              "      <th>l4Proto</th>\n",
              "      <th>macPairs</th>\n",
              "      <th>dstPortClassN</th>\n",
              "      <th>numPktsSnt</th>\n",
              "      <th>numPktsRcvd</th>\n",
              "      <th>numBytesSnt</th>\n",
              "      <th>numBytesRcvd</th>\n",
              "      <th>...</th>\n",
              "      <th>connDip</th>\n",
              "      <th>connSipDip</th>\n",
              "      <th>connSipDprt</th>\n",
              "      <th>connF</th>\n",
              "      <th>aveIAT</th>\n",
              "      <th>maxIAT</th>\n",
              "      <th>stdIAT</th>\n",
              "      <th>tcpISeqN</th>\n",
              "      <th>tcpUtm</th>\n",
              "      <th>tcpWinSzThRt</th>\n",
              "    </tr>\n",
              "  </thead>\n",
              "  <tbody>\n",
              "    <tr>\n",
              "      <th>0</th>\n",
              "      <td>0.977842</td>\n",
              "      <td>0.000000e+00</td>\n",
              "      <td>0.000002</td>\n",
              "      <td>0.000038</td>\n",
              "      <td>0.000002</td>\n",
              "      <td>0.000119</td>\n",
              "      <td>0.000002</td>\n",
              "      <td>0.000002</td>\n",
              "      <td>0.000074</td>\n",
              "      <td>0.000110</td>\n",
              "      <td>...</td>\n",
              "      <td>0.000009</td>\n",
              "      <td>0.010389</td>\n",
              "      <td>0.010385</td>\n",
              "      <td>0.001038</td>\n",
              "      <td>0.000000e+00</td>\n",
              "      <td>0.000000e+00</td>\n",
              "      <td>0.000000e+00</td>\n",
              "      <td>0.0</td>\n",
              "      <td>0.0</td>\n",
              "      <td>0.0</td>\n",
              "    </tr>\n",
              "    <tr>\n",
              "      <th>1</th>\n",
              "      <td>0.948144</td>\n",
              "      <td>0.000000e+00</td>\n",
              "      <td>0.000003</td>\n",
              "      <td>0.000058</td>\n",
              "      <td>0.000003</td>\n",
              "      <td>0.000422</td>\n",
              "      <td>0.000003</td>\n",
              "      <td>0.000003</td>\n",
              "      <td>0.000165</td>\n",
              "      <td>0.000165</td>\n",
              "      <td>...</td>\n",
              "      <td>0.000003</td>\n",
              "      <td>0.007540</td>\n",
              "      <td>0.007540</td>\n",
              "      <td>0.000838</td>\n",
              "      <td>0.000000e+00</td>\n",
              "      <td>0.000000e+00</td>\n",
              "      <td>0.000000e+00</td>\n",
              "      <td>0.0</td>\n",
              "      <td>0.0</td>\n",
              "      <td>0.0</td>\n",
              "    </tr>\n",
              "    <tr>\n",
              "      <th>2</th>\n",
              "      <td>0.999879</td>\n",
              "      <td>8.136645e-05</td>\n",
              "      <td>0.000009</td>\n",
              "      <td>0.000159</td>\n",
              "      <td>0.000009</td>\n",
              "      <td>0.000496</td>\n",
              "      <td>0.000028</td>\n",
              "      <td>0.000019</td>\n",
              "      <td>0.001030</td>\n",
              "      <td>0.005226</td>\n",
              "      <td>...</td>\n",
              "      <td>0.000103</td>\n",
              "      <td>0.000150</td>\n",
              "      <td>0.000094</td>\n",
              "      <td>0.000010</td>\n",
              "      <td>2.712215e-05</td>\n",
              "      <td>4.683897e-05</td>\n",
              "      <td>1.418111e-05</td>\n",
              "      <td>0.0</td>\n",
              "      <td>0.0</td>\n",
              "      <td>0.0</td>\n",
              "    </tr>\n",
              "    <tr>\n",
              "      <th>3</th>\n",
              "      <td>0.956680</td>\n",
              "      <td>0.000000e+00</td>\n",
              "      <td>0.000003</td>\n",
              "      <td>0.000053</td>\n",
              "      <td>0.000003</td>\n",
              "      <td>0.000166</td>\n",
              "      <td>0.000003</td>\n",
              "      <td>0.000003</td>\n",
              "      <td>0.000104</td>\n",
              "      <td>0.000154</td>\n",
              "      <td>...</td>\n",
              "      <td>0.000009</td>\n",
              "      <td>0.006951</td>\n",
              "      <td>0.006945</td>\n",
              "      <td>0.000631</td>\n",
              "      <td>0.000000e+00</td>\n",
              "      <td>0.000000e+00</td>\n",
              "      <td>0.000000e+00</td>\n",
              "      <td>0.0</td>\n",
              "      <td>0.0</td>\n",
              "      <td>0.0</td>\n",
              "    </tr>\n",
              "    <tr>\n",
              "      <th>4</th>\n",
              "      <td>0.976209</td>\n",
              "      <td>0.000000e+00</td>\n",
              "      <td>0.000003</td>\n",
              "      <td>0.000056</td>\n",
              "      <td>0.000003</td>\n",
              "      <td>0.000175</td>\n",
              "      <td>0.000003</td>\n",
              "      <td>0.000003</td>\n",
              "      <td>0.000162</td>\n",
              "      <td>0.000109</td>\n",
              "      <td>...</td>\n",
              "      <td>0.000030</td>\n",
              "      <td>0.007286</td>\n",
              "      <td>0.007280</td>\n",
              "      <td>0.003640</td>\n",
              "      <td>0.000000e+00</td>\n",
              "      <td>0.000000e+00</td>\n",
              "      <td>0.000000e+00</td>\n",
              "      <td>0.0</td>\n",
              "      <td>0.0</td>\n",
              "      <td>0.0</td>\n",
              "    </tr>\n",
              "    <tr>\n",
              "      <th>...</th>\n",
              "      <td>...</td>\n",
              "      <td>...</td>\n",
              "      <td>...</td>\n",
              "      <td>...</td>\n",
              "      <td>...</td>\n",
              "      <td>...</td>\n",
              "      <td>...</td>\n",
              "      <td>...</td>\n",
              "      <td>...</td>\n",
              "      <td>...</td>\n",
              "      <td>...</td>\n",
              "      <td>...</td>\n",
              "      <td>...</td>\n",
              "      <td>...</td>\n",
              "      <td>...</td>\n",
              "      <td>...</td>\n",
              "      <td>...</td>\n",
              "      <td>...</td>\n",
              "      <td>...</td>\n",
              "      <td>...</td>\n",
              "      <td>...</td>\n",
              "    </tr>\n",
              "    <tr>\n",
              "      <th>49995</th>\n",
              "      <td>0.716137</td>\n",
              "      <td>0.000000e+00</td>\n",
              "      <td>0.000011</td>\n",
              "      <td>0.000181</td>\n",
              "      <td>0.000011</td>\n",
              "      <td>0.001309</td>\n",
              "      <td>0.000011</td>\n",
              "      <td>0.000011</td>\n",
              "      <td>0.000511</td>\n",
              "      <td>0.000511</td>\n",
              "      <td>...</td>\n",
              "      <td>0.000128</td>\n",
              "      <td>0.011806</td>\n",
              "      <td>0.011806</td>\n",
              "      <td>0.011806</td>\n",
              "      <td>0.000000e+00</td>\n",
              "      <td>0.000000e+00</td>\n",
              "      <td>0.000000e+00</td>\n",
              "      <td>0.0</td>\n",
              "      <td>0.0</td>\n",
              "      <td>0.0</td>\n",
              "    </tr>\n",
              "    <tr>\n",
              "      <th>49996</th>\n",
              "      <td>0.995059</td>\n",
              "      <td>0.000000e+00</td>\n",
              "      <td>0.000001</td>\n",
              "      <td>0.000018</td>\n",
              "      <td>0.000001</td>\n",
              "      <td>0.000057</td>\n",
              "      <td>0.000001</td>\n",
              "      <td>0.000001</td>\n",
              "      <td>0.000035</td>\n",
              "      <td>0.000052</td>\n",
              "      <td>...</td>\n",
              "      <td>0.000003</td>\n",
              "      <td>0.004926</td>\n",
              "      <td>0.004924</td>\n",
              "      <td>0.000547</td>\n",
              "      <td>0.000000e+00</td>\n",
              "      <td>0.000000e+00</td>\n",
              "      <td>0.000000e+00</td>\n",
              "      <td>0.0</td>\n",
              "      <td>0.0</td>\n",
              "      <td>0.0</td>\n",
              "    </tr>\n",
              "    <tr>\n",
              "      <th>49997</th>\n",
              "      <td>0.989679</td>\n",
              "      <td>0.000000e+00</td>\n",
              "      <td>0.000002</td>\n",
              "      <td>0.000026</td>\n",
              "      <td>0.000002</td>\n",
              "      <td>0.000190</td>\n",
              "      <td>0.000002</td>\n",
              "      <td>0.000002</td>\n",
              "      <td>0.000074</td>\n",
              "      <td>0.000074</td>\n",
              "      <td>...</td>\n",
              "      <td>0.000003</td>\n",
              "      <td>0.003858</td>\n",
              "      <td>0.003858</td>\n",
              "      <td>0.000386</td>\n",
              "      <td>0.000000e+00</td>\n",
              "      <td>0.000000e+00</td>\n",
              "      <td>0.000000e+00</td>\n",
              "      <td>0.0</td>\n",
              "      <td>0.0</td>\n",
              "      <td>0.0</td>\n",
              "    </tr>\n",
              "    <tr>\n",
              "      <th>49998</th>\n",
              "      <td>0.989589</td>\n",
              "      <td>0.000000e+00</td>\n",
              "      <td>0.000002</td>\n",
              "      <td>0.000026</td>\n",
              "      <td>0.000002</td>\n",
              "      <td>0.000082</td>\n",
              "      <td>0.000002</td>\n",
              "      <td>0.000002</td>\n",
              "      <td>0.000051</td>\n",
              "      <td>0.000076</td>\n",
              "      <td>...</td>\n",
              "      <td>0.000006</td>\n",
              "      <td>0.007153</td>\n",
              "      <td>0.007150</td>\n",
              "      <td>0.000794</td>\n",
              "      <td>0.000000e+00</td>\n",
              "      <td>0.000000e+00</td>\n",
              "      <td>0.000000e+00</td>\n",
              "      <td>0.0</td>\n",
              "      <td>0.0</td>\n",
              "      <td>0.0</td>\n",
              "    </tr>\n",
              "    <tr>\n",
              "      <th>49999</th>\n",
              "      <td>0.997970</td>\n",
              "      <td>7.165273e-09</td>\n",
              "      <td>0.000003</td>\n",
              "      <td>0.000045</td>\n",
              "      <td>0.000003</td>\n",
              "      <td>0.000139</td>\n",
              "      <td>0.000005</td>\n",
              "      <td>0.000005</td>\n",
              "      <td>0.000173</td>\n",
              "      <td>0.000288</td>\n",
              "      <td>...</td>\n",
              "      <td>0.000005</td>\n",
              "      <td>0.005728</td>\n",
              "      <td>0.005723</td>\n",
              "      <td>0.000572</td>\n",
              "      <td>3.582637e-09</td>\n",
              "      <td>7.165273e-09</td>\n",
              "      <td>2.533307e-09</td>\n",
              "      <td>0.0</td>\n",
              "      <td>0.0</td>\n",
              "      <td>0.0</td>\n",
              "    </tr>\n",
              "  </tbody>\n",
              "</table>\n",
              "<p>50000 rows × 66 columns</p>\n",
              "</div>"
            ]
          },
          "metadata": {
            "tags": []
          },
          "execution_count": 156
        }
      ]
    },
    {
      "cell_type": "code",
      "metadata": {
        "id": "4p-DcLYhA8WD",
        "colab": {
          "base_uri": "https://localhost:8080/"
        },
        "outputId": "93a26221-9eb2-49c5-ea1d-9fe433bcc88b"
      },
      "source": [
        "#dataset loading\n",
        "train_tensor = torch.tensor(train_X.values.astype(np.float32))\n",
        "train_loader = torch.utils.data.DataLoader(train_tensor, batch_size = BATCH_SIZE, shuffle = True)\n",
        "train_tensor"
      ],
      "execution_count": 31,
      "outputs": [
        {
          "output_type": "execute_result",
          "data": {
            "text/plain": [
              "tensor([[9.7784e-01, 0.0000e+00, 2.2532e-06,  ..., 0.0000e+00, 0.0000e+00,\n",
              "         0.0000e+00],\n",
              "        [9.4814e-01, 0.0000e+00, 3.4275e-06,  ..., 0.0000e+00, 0.0000e+00,\n",
              "         0.0000e+00],\n",
              "        [9.9988e-01, 8.1366e-05, 9.3651e-06,  ..., 0.0000e+00, 0.0000e+00,\n",
              "         0.0000e+00],\n",
              "        ...,\n",
              "        [9.8968e-01, 0.0000e+00, 1.5450e-06,  ..., 0.0000e+00, 0.0000e+00,\n",
              "         0.0000e+00],\n",
              "        [9.8959e-01, 0.0000e+00, 1.5490e-06,  ..., 0.0000e+00, 0.0000e+00,\n",
              "         0.0000e+00],\n",
              "        [9.9797e-01, 7.1653e-09, 2.6179e-06,  ..., 0.0000e+00, 0.0000e+00,\n",
              "         0.0000e+00]])"
            ]
          },
          "metadata": {
            "tags": []
          },
          "execution_count": 31
        }
      ]
    },
    {
      "cell_type": "code",
      "metadata": {
        "id": "8vliZrXxA8WE"
      },
      "source": [
        "class Autoencoder(nn.Module):\n",
        "    def __init__(self):\n",
        "        super(Autoencoder, self).__init__()\n",
        "        # encoder\n",
        "        self.enc1 = nn.Linear(in_features=dim, out_features=int(dim/2))\n",
        "        self.enc2 = nn.Linear(in_features=int(dim/2), out_features=int(dim/4))\n",
        "        self.enc3 = nn.Linear(in_features=int(dim/4), out_features=int(dim/8))\n",
        "        \n",
        "        # decoder \n",
        "        self.dec1 = nn.Linear(in_features=int(dim/8), out_features=int(dim/4))\n",
        "        self.dec2 = nn.Linear(in_features=int(dim/4), out_features=int(dim/2))\n",
        "        self.dec3 = nn.Linear(in_features=int(dim/2), out_features=dim)\n",
        "        \n",
        "    def forward(self, x):\n",
        "#         x = F.relu(self.enc1(x))\n",
        "#         x = F.relu(self.enc2(x))\n",
        "#         x = F.relu(self.enc3(x))\n",
        "        \n",
        "#         x = F.relu(self.dec1(x))\n",
        "#         x = F.relu(self.dec2(x))\n",
        "#         x = F.relu(self.dec3(x))\n",
        "        \n",
        "        #sigmoid activation\n",
        "        x = torch.sigmoid(self.enc1(x))\n",
        "        x = torch.sigmoid(self.enc2(x))\n",
        "        x = torch.sigmoid(self.enc3(x))\n",
        "\n",
        "        x = torch.sigmoid(self.dec1(x))\n",
        "        x = torch.sigmoid(self.dec2(x))\n",
        "        x = torch.sigmoid(self.dec3(x))\n",
        "        return x\n",
        "device = torch.device(\"cuda\" if torch.cuda.is_available() else \"cpu\")\n",
        "net = Autoencoder()\n",
        "optimizer = optim.Adam(net.parameters(), lr=LEARNING_RATE)\n"
      ],
      "execution_count": 32,
      "outputs": []
    },
    {
      "cell_type": "code",
      "metadata": {
        "colab": {
          "base_uri": "https://localhost:8080/"
        },
        "id": "2SWEXnNuA8WE",
        "outputId": "c7cd48d5-9603-45e6-8229-a05d106437fd"
      },
      "source": [
        "#Trainning model\n",
        "\n",
        "loss_function = nn.BCELoss()  # Alternative loss functions - BCEWithLogitsLoss(), MSELoss()\n",
        "\n",
        "train_loss = []\n",
        "for epoch in range(NUM_EPOCHS):\n",
        "    running_loss = 0.0\n",
        "    for data in train_loader:\n",
        "        input_data = data.to(device=device)\n",
        "        optimizer.zero_grad()\n",
        "        output = net(input_data).to(device=device)                  # output is the reconstruced x \n",
        "        loss = loss_function(output, input_data).to(device=device)  # input_data should be the target variable\n",
        "        loss.backward()\n",
        "        optimizer.step()\n",
        "        running_loss += loss.item()\n",
        "    \n",
        "    loss = running_loss / len(train_loader)\n",
        "    train_loss.append(loss)\n",
        "    \n",
        "    if epoch % 5 == 0:\n",
        "        print('Epoch {} of {}, Train Loss: {:.3f}'.format(\n",
        "          epoch+1, NUM_EPOCHS, loss))\n",
        "print(\"Completed training with final loss {:.3f}\".format(train_loss[-1]))"
      ],
      "execution_count": 33,
      "outputs": [
        {
          "output_type": "stream",
          "text": [
            "Epoch 1 of 50, Train Loss: 0.067\n",
            "Epoch 6 of 50, Train Loss: 0.023\n",
            "Epoch 11 of 50, Train Loss: 0.020\n",
            "Epoch 16 of 50, Train Loss: 0.020\n",
            "Epoch 21 of 50, Train Loss: 0.019\n",
            "Epoch 26 of 50, Train Loss: 0.019\n",
            "Epoch 31 of 50, Train Loss: 0.018\n",
            "Epoch 36 of 50, Train Loss: 0.018\n",
            "Epoch 41 of 50, Train Loss: 0.018\n",
            "Epoch 46 of 50, Train Loss: 0.018\n",
            "Completed training with final loss 0.017\n"
          ],
          "name": "stdout"
        }
      ]
    },
    {
      "cell_type": "code",
      "metadata": {
        "colab": {
          "base_uri": "https://localhost:8080/",
          "height": 639
        },
        "id": "hhz3kZTrnVt6",
        "outputId": "4bcbae57-3d7e-4502-da3f-dbbea3466f54"
      },
      "source": [
        "_, ax = plt.subplots(1,1,figsize=(15,10))\r\n",
        "plt.xlabel(\"epochs\")\r\n",
        "plt.ylabel(\"loss value \")\r\n",
        "ax.set_title('Loss graph')\r\n",
        "ax.plot(train_loss)"
      ],
      "execution_count": 34,
      "outputs": [
        {
          "output_type": "execute_result",
          "data": {
            "text/plain": [
              "[<matplotlib.lines.Line2D at 0x7f15df3d7e80>]"
            ]
          },
          "metadata": {
            "tags": []
          },
          "execution_count": 34
        },
        {
          "output_type": "display_data",
          "data": {
            "text/plain": [
              "<Figure size 1080x720 with 1 Axes>"
            ],
            "image/png": "[encoded data removed]"
          },
          "metadata": {
            "tags": [],
            "needs_background": "light"
          }
        }
      ]
    },
    {
      "cell_type": "code",
      "metadata": {
        "id": "_HARKdfRjolf"
      },
      "source": [
        "#Prediction threshold \n",
        "test_loss = []\n",
        "net.eval()\n",
        "test_tensor = torch.tensor(test_X.values.astype(np.float32))\n",
        "with torch.no_grad():\n",
        "    for i in range(len(test_X)):\n",
        "        input = test_tensor[i].to(device=device)\n",
        "        output = net(input).to(device=device)\n",
        "        loss = loss_function(output, input).to(device=device)\n",
        "        test_loss.append(loss.item())"
      ],
      "execution_count": 64,
      "outputs": []
    },
    {
      "cell_type": "code",
      "metadata": {
        "id": "rz8pU2l6JbU3",
        "outputId": "0af7f5a7-4c85-4a51-8376-2874ec748732",
        "colab": {
          "base_uri": "https://localhost:8080/",
          "height": 437
        }
      },
      "source": [
        "attack_threshold = 0.05  # This was found by visual inspection - future versions will use some sort of 1D classifier to find threshold\r\n",
        "\r\n",
        "test_results = test_y.to_frame().astype(bool)\r\n",
        "test_results['loss'] = pd.Series(test_loss, index=test_results.index)\r\n",
        "test_results['is_attack_prediction'] = test_results.loss > attack_threshold\r\n",
        "\r\n",
        "conf_matrix = confusion_matrix(test_results.is_attack, test_results.is_attack_prediction)\r\n",
        "plt.figure()\r\n",
        "sns.heatmap(conf_matrix, annot=True, annot_kws={\"size\": 16}, fmt='g')\r\n",
        "plt.title('Attack Threshold Classification - Confusion Matrix')\r\n",
        "print(classification_report(test_results.is_attack, test_results.is_attack_prediction, target_names=[\"benign\", \"attack\"]))"
      ],
      "execution_count": 190,
      "outputs": [
        {
          "output_type": "stream",
          "text": [
            "              precision    recall  f1-score   support\n",
            "\n",
            "      benign       0.42      0.99      0.59     19429\n",
            "      attack       0.94      0.14      0.24     30571\n",
            "\n",
            "    accuracy                           0.47     50000\n",
            "   macro avg       0.68      0.56      0.41     50000\n",
            "weighted avg       0.74      0.47      0.38     50000\n",
            "\n"
          ],
          "name": "stdout"
        },
        {
          "output_type": "display_data",
          "data": {
            "text/plain": [
              "<Figure size 432x288 with 2 Axes>"
            ],
            "image/png": "[encoded data removed]"
          },
          "metadata": {
            "tags": [],
            "needs_background": "light"
          }
        }
      ]
    },
    {
      "cell_type": "code",
      "metadata": {
        "id": "ALKKNQ76z0L_",
        "outputId": "3bac476b-3e14-4dfd-9657-d77e06826c8a",
        "colab": {
          "base_uri": "https://localhost:8080/",
          "height": 291
        }
      },
      "source": [
        "fig, (benign_ax, attack_ax) = plt.subplots(nrows=2, sharex=True, figsize=(20, 4))\r\n",
        "fig.suptitle('Loss Projection with Attack Threshold')\r\n",
        "fig.subplots_adjust(hspace=0.02)\r\n",
        "attack_loss_points = [(i, 'attack') for i in test_results[test_results['is_attack'] == True].loss]\r\n",
        "benign_loss_points = [(i, 'benign') for i in test_results[test_results['is_attack'] == False].loss]\r\n",
        "benign_ax.scatter(*zip(*benign_loss_points), label=\"benign\", color=['blue'], alpha=0.01)\r\n",
        "attack_ax.scatter(*zip(*attack_loss_points), label=\"attack\", color=['red'], alpha=0.01)\r\n",
        "for ax in (benign_ax, attack_ax):\r\n",
        "  ax.axvline(attack_threshold, 0.0, 10, color='purple')\r\n",
        "  ax.legend()\r\n",
        "  ax.grid(True)\r\n",
        "plt.show()"
      ],
      "execution_count": 218,
      "outputs": [
        {
          "output_type": "display_data",
          "data": {
            "text/plain": [
              "<Figure size 1440x288 with 2 Axes>"
            ],
            "image/png": "[encoded data removed]"
          },
          "metadata": {
            "tags": [],
            "needs_background": "light"
          }
        }
      ]
    },
    {
      "cell_type": "code",
      "metadata": {
        "id": "ZbRZ_zeO7trh",
        "outputId": "f85c1211-c62a-42f5-c075-f1eaa796c601",
        "colab": {
          "base_uri": "https://localhost:8080/",
          "height": 475
        }
      },
      "source": [
        "sns.displot(test_results.loss, bins=100, kde=True, color='purple', height=6, aspect=16/6)\r\n",
        "plt.axvline(attack_threshold, 0.0, 10, color='r')\r\n",
        "plt.title('Loss Distribution')"
      ],
      "execution_count": 188,
      "outputs": [
        {
          "output_type": "execute_result",
          "data": {
            "text/plain": [
              "Text(0.5, 1.0, 'Loss Distribution')"
            ]
          },
          "metadata": {
            "tags": []
          },
          "execution_count": 188
        },
        {
          "output_type": "display_data",
          "data": {
            "text/plain": [
              "<Figure size 1152x432 with 1 Axes>"
            ],
            "image/png": "[encoded data removed]"
          },
          "metadata": {
            "tags": [],
            "needs_background": "light"
          }
        }
      ]
    }
  ]
}