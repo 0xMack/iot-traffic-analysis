{
 "cells": [
  {
   "cell_type": "markdown",
   "metadata": {
    "colab_type": "text",
    "id": "view-in-github"
   },
   "source": [
    "<a href=\"https://colab.research.google.com/github/MackPreston/iot-traffic-analysis/blob/main/notebooks/tran_feature_selection.ipynb\" target=\"_parent\"><img src=\"https://colab.research.google.com/assets/colab-badge.svg\" alt=\"Open In Colab\"/></a>"
   ]
  },
  {
   "cell_type": "markdown",
   "metadata": {
    "id": "ALbD_0CbQZof"
   },
   "source": [
    "# IoT Traffic Analysis with Tranalyzer Flows"
   ]
  },
  {
   "cell_type": "code",
   "execution_count": 1,
   "metadata": {
    "id": "0QhDIquOQXse"
   },
   "outputs": [],
   "source": [
    "import sys\n",
    "import os\n",
    "import glob\n",
    "import pandas as pd\n",
    "import numpy as np\n",
    "from datetime import datetime\n",
    "import matplotlib.pyplot as plt \n",
    "#import torch\n",
    "#print(f\"CUDA Available: {torch.cuda.is_available()}\")\n",
    "time_to_date = lambda t: datetime.utcfromtimestamp(t).strftime('%Y-%m-%d %H:%M:%S')\n"
   ]
  },
  {
   "cell_type": "markdown",
   "metadata": {
    "id": "Oq68xRoBf0t6"
   },
   "source": [
    "## Loading benign dataset\n",
    "\n",
    "The dataset is then loadeded from tranalyzers output into a dataframe"
   ]
  },
  {
   "cell_type": "code",
   "execution_count": 2,
   "metadata": {
    "colab": {
     "base_uri": "https://localhost:8080/"
    },
    "id": "RkXlpJ8MfzEw",
    "outputId": "60ca604a-b1b6-4630-8b4c-312532a6714f"
   },
   "outputs": [
    {
     "name": "stdout",
     "output_type": "stream",
     "text": [
      "Current Directory:/mnt/e/iot-traffic-analysis\n"
     ]
    },
    {
     "name": "stderr",
     "output_type": "stream",
     "text": [
      "/home/mack/anaconda3/lib/python3.8/site-packages/IPython/core/interactiveshell.py:3155: DtypeWarning: Columns (7) have mixed types.Specify dtype option on import or set low_memory=False.\n",
      "  has_raised = await self.run_ast_nodes(code_ast.body, cell_name,\n"
     ]
    },
    {
     "name": "stdout",
     "output_type": "stream",
     "text": [
      "Stored 'benign_flows' (DataFrame)\n"
     ]
    }
   ],
   "source": [
    "print(\"Current Directory:\" + os.getcwd())\n",
    "file_pattern = '*_flows.txt' # Use all pcap files\n",
    "# file_pattern = '18-06-09_flows.txt'\n",
    "glob_path = os.path.join(os.getcwd(), 'benign/tran', file_pattern)\n",
    "file_list = glob.glob(glob_path)\n",
    "\n",
    "li = []\n",
    "for filepath in file_list:\n",
    "    df = pd.read_csv(filepath, index_col=None, header=0, delimiter='\\t')\n",
    "    li.append(df)\n",
    "\n",
    "benign_flows = pd.concat(li, axis=0, ignore_index=True)\n",
    "%store benign_flows"
   ]
  },
  {
   "cell_type": "markdown",
   "metadata": {
    "id": "rXfSTNDMM_Um"
   },
   "source": [
    "# Loading Mixed Dataset"
   ]
  },
  {
   "cell_type": "code",
   "execution_count": null,
   "metadata": {
    "colab": {
     "base_uri": "https://localhost:8080/",
     "height": 487
    },
    "id": "ItoQxrhDNIUn",
    "outputId": "229ba4a1-4abd-4e2a-b809-78fc623aac68"
   },
   "outputs": [
    {
     "name": "stdout",
     "output_type": "stream",
     "text": [
      "Current Directory:C:\\Users\\hitman\\iot-traffic-analysis\n",
      "Stored 'mixed_flows' (DataFrame)\n"
     ]
    }
   ],
   "source": [
    "import os\n",
    "import glob\n",
    "print(\"Current Directory:\" + os.getcwd())\n",
    "file_pattern = '*_flows.txt' # Use all pcap files\n",
    "# file_pattern = '18-06-01_flows.txt'\n",
    "glob_path = os.path.join(os.getcwd(), 'attack/tran', file_pattern)\n",
    "file_list = glob.glob(glob_path)\n",
    "\n",
    "li = []\n",
    "for filepath in file_list:\n",
    "    df = pd.read_csv(filepath, index_col=None, header=0, delimiter='\\t')\n",
    "    li.append(df)\n",
    "\n",
    "mixed_flows = pd.concat(li, axis=0, ignore_index=True)\n",
    "all_flows=pd.concat([benign_flows, mixed_flows], axis=0)\n",
    "\n",
    "mixed_flows\n"
   ]
  },
  {
   "cell_type": "markdown",
   "metadata": {
    "id": "7usL-fkA9kRa"
   },
   "source": [
    "# Known Attack Pre-processing\n",
    "\n",
    "Note: the original 50c7bf005639.csv source file had a few extra commas that needed to be removed in order to load the csv properly.\n",
    "\n",
    "TODO - investigate *-packet-anomaly.txt files - what are they for?"
   ]
  },
  {
   "cell_type": "code",
   "execution_count": null,
   "metadata": {
    "colab": {
     "base_uri": "https://localhost:8080/",
     "height": 355
    },
    "id": "0cbfvvqkXAa7",
    "outputId": "acd174b0-f40d-4e6c-9e99-cd362b88567f"
   },
   "outputs": [
    {
     "data": {
      "text/html": [
       "<div>\n",
       "<style scoped>\n",
       "    .dataframe tbody tr th:only-of-type {\n",
       "        vertical-align: middle;\n",
       "    }\n",
       "\n",
       "    .dataframe tbody tr th {\n",
       "        vertical-align: top;\n",
       "    }\n",
       "\n",
       "    .dataframe thead th {\n",
       "        text-align: right;\n",
       "    }\n",
       "</style>\n",
       "<table border=\"1\" class=\"dataframe\">\n",
       "  <thead>\n",
       "    <tr style=\"text-align: right;\">\n",
       "      <th></th>\n",
       "      <th>mac</th>\n",
       "      <th>ip</th>\n",
       "      <th>device_type</th>\n",
       "      <th>annotation_file</th>\n",
       "    </tr>\n",
       "  </thead>\n",
       "  <tbody>\n",
       "    <tr>\n",
       "      <th>0</th>\n",
       "      <td>ec:1a:59:83:28:11</td>\n",
       "      <td>192.168.1.165</td>\n",
       "      <td>WEMO Motion Sensor</td>\n",
       "      <td>ec1a59832811.csv</td>\n",
       "    </tr>\n",
       "    <tr>\n",
       "      <th>1</th>\n",
       "      <td>ec:1a:59:79:f4:89</td>\n",
       "      <td>192.168.1.223</td>\n",
       "      <td>WEMO Power Switch</td>\n",
       "      <td>ec1a5979f489.csv</td>\n",
       "    </tr>\n",
       "    <tr>\n",
       "      <th>2</th>\n",
       "      <td>00:16:6c:ab:6b:88</td>\n",
       "      <td>192.168.1.248</td>\n",
       "      <td>Samsung Camera</td>\n",
       "      <td>00166cab6b88.csv</td>\n",
       "    </tr>\n",
       "    <tr>\n",
       "      <th>3</th>\n",
       "      <td>50:c7:bf:00:56:39</td>\n",
       "      <td>192.168.1.227</td>\n",
       "      <td>TP Link Plug</td>\n",
       "      <td>50c7bf005639.csv</td>\n",
       "    </tr>\n",
       "    <tr>\n",
       "      <th>4</th>\n",
       "      <td>70:ee:50:18:34:43</td>\n",
       "      <td>192.168.1.241</td>\n",
       "      <td>Netatmo Camera</td>\n",
       "      <td>70ee50183443.csv</td>\n",
       "    </tr>\n",
       "    <tr>\n",
       "      <th>5</th>\n",
       "      <td>00:17:88:2B:9A:25</td>\n",
       "      <td>192.168.1.129</td>\n",
       "      <td>Huebulb</td>\n",
       "      <td>0017882b9a25.csv</td>\n",
       "    </tr>\n",
       "    <tr>\n",
       "      <th>6</th>\n",
       "      <td>44:65:0D:56:CC:D3</td>\n",
       "      <td>192.168.1.239</td>\n",
       "      <td>AmazonEcho</td>\n",
       "      <td>44650d56ccd3.csv</td>\n",
       "    </tr>\n",
       "    <tr>\n",
       "      <th>7</th>\n",
       "      <td>F4:F5:D8:8F:0A:3C</td>\n",
       "      <td>192.168.1.119</td>\n",
       "      <td>chromecast</td>\n",
       "      <td>f4f5d88f0a3c.csv</td>\n",
       "    </tr>\n",
       "    <tr>\n",
       "      <th>8</th>\n",
       "      <td>74:C6:3B:29:D7:1D</td>\n",
       "      <td>192.168.1.163</td>\n",
       "      <td>ihome</td>\n",
       "      <td>74c63b29d71d.csv</td>\n",
       "    </tr>\n",
       "    <tr>\n",
       "      <th>9</th>\n",
       "      <td>D0:73:D5:01:83:08</td>\n",
       "      <td>192.168.1.118</td>\n",
       "      <td>lifx</td>\n",
       "      <td>d073d5018308.csv</td>\n",
       "    </tr>\n",
       "  </tbody>\n",
       "</table>\n",
       "</div>"
      ],
      "text/plain": [
       "                 mac             ip         device_type   annotation_file\n",
       "0  ec:1a:59:83:28:11  192.168.1.165  WEMO Motion Sensor  ec1a59832811.csv\n",
       "1  ec:1a:59:79:f4:89  192.168.1.223   WEMO Power Switch  ec1a5979f489.csv\n",
       "2  00:16:6c:ab:6b:88  192.168.1.248      Samsung Camera  00166cab6b88.csv\n",
       "3  50:c7:bf:00:56:39  192.168.1.227        TP Link Plug  50c7bf005639.csv\n",
       "4  70:ee:50:18:34:43  192.168.1.241      Netatmo Camera  70ee50183443.csv\n",
       "5  00:17:88:2B:9A:25  192.168.1.129             Huebulb  0017882b9a25.csv\n",
       "6  44:65:0D:56:CC:D3  192.168.1.239          AmazonEcho  44650d56ccd3.csv\n",
       "7  F4:F5:D8:8F:0A:3C  192.168.1.119          chromecast  f4f5d88f0a3c.csv\n",
       "8  74:C6:3B:29:D7:1D  192.168.1.163               ihome  74c63b29d71d.csv\n",
       "9  D0:73:D5:01:83:08  192.168.1.118                lifx  d073d5018308.csv"
      ]
     },
     "execution_count": 20,
     "metadata": {
      "tags": []
     },
     "output_type": "execute_result"
    }
   ],
   "source": [
    "# Load device_info from file\n",
    "mac_to_filename = lambda s: f\"{s.lower().replace(':', '')}.csv\"\n",
    "\n",
    "filepath = \"device_info.csv\"\n",
    "device_info = pd.read_csv(filepath, index_col=None, delimiter=',')\n",
    "device_info['annotation_file'] = device_info['mac'].map(mac_to_filename)\n",
    "device_info"
   ]
  },
  {
   "cell_type": "code",
   "execution_count": null,
   "metadata": {
    "colab": {
     "base_uri": "https://localhost:8080/",
     "height": 695
    },
    "id": "VPy9SfeqmTP6",
    "outputId": "44d96fc0-26d7-42b3-e844-ee70c37febcf"
   },
   "outputs": [
    {
     "name": "stdout",
     "output_type": "stream",
     "text": [
      "loading C:\\Users\\hitman\\iot-traffic-analysis\\annotations\\00166cab6b88.csv\n",
      "loading C:\\Users\\hitman\\iot-traffic-analysis\\annotations\\0017882b9a25.csv\n",
      "loading C:\\Users\\hitman\\iot-traffic-analysis\\annotations\\44650d56ccd3.csv\n",
      "loading C:\\Users\\hitman\\iot-traffic-analysis\\annotations\\50c7bf005639.csv\n",
      "loading C:\\Users\\hitman\\iot-traffic-analysis\\annotations\\70ee50183443.csv\n",
      "loading C:\\Users\\hitman\\iot-traffic-analysis\\annotations\\74c63b29d71d.csv\n",
      "loading C:\\Users\\hitman\\iot-traffic-analysis\\annotations\\d073d5018308.csv\n",
      "loading C:\\Users\\hitman\\iot-traffic-analysis\\annotations\\ec1a5979f489.csv\n",
      "loading C:\\Users\\hitman\\iot-traffic-analysis\\annotations\\ec1a59832811.csv\n",
      "loading C:\\Users\\hitman\\iot-traffic-analysis\\annotations\\f4f5d88f0a3c.csv\n"
     ]
    },
    {
     "data": {
      "text/html": [
       "<div>\n",
       "<style scoped>\n",
       "    .dataframe tbody tr th:only-of-type {\n",
       "        vertical-align: middle;\n",
       "    }\n",
       "\n",
       "    .dataframe tbody tr th {\n",
       "        vertical-align: top;\n",
       "    }\n",
       "\n",
       "    .dataframe thead th {\n",
       "        text-align: right;\n",
       "    }\n",
       "</style>\n",
       "<table border=\"1\" class=\"dataframe\">\n",
       "  <thead>\n",
       "    <tr style=\"text-align: right;\">\n",
       "      <th></th>\n",
       "      <th>annotation_file</th>\n",
       "      <th>start_time</th>\n",
       "      <th>end_time</th>\n",
       "      <th>description</th>\n",
       "      <th>attack_type</th>\n",
       "      <th>duration</th>\n",
       "      <th>mac</th>\n",
       "      <th>ip</th>\n",
       "      <th>device_type</th>\n",
       "    </tr>\n",
       "  </thead>\n",
       "  <tbody>\n",
       "    <tr>\n",
       "      <th>0</th>\n",
       "      <td>00166cab6b88.csv</td>\n",
       "      <td>1527835334</td>\n",
       "      <td>1527835936</td>\n",
       "      <td>Localfeatures|Allfeatures|Arpfeatures</td>\n",
       "      <td>ArpSpoof1L2D</td>\n",
       "      <td>602</td>\n",
       "      <td>00:16:6c:ab:6b:88</td>\n",
       "      <td>192.168.1.248</td>\n",
       "      <td>Samsung Camera</td>\n",
       "    </tr>\n",
       "    <tr>\n",
       "      <th>1</th>\n",
       "      <td>00166cab6b88.csv</td>\n",
       "      <td>1527836944</td>\n",
       "      <td>1527837544</td>\n",
       "      <td>Localfeatures|Allfeatures|Arpfeatures</td>\n",
       "      <td>ArpSpoof10L2D</td>\n",
       "      <td>600</td>\n",
       "      <td>00:16:6c:ab:6b:88</td>\n",
       "      <td>192.168.1.248</td>\n",
       "      <td>Samsung Camera</td>\n",
       "    </tr>\n",
       "    <tr>\n",
       "      <th>2</th>\n",
       "      <td>00166cab6b88.csv</td>\n",
       "      <td>1527860996</td>\n",
       "      <td>1527861596</td>\n",
       "      <td>localTcpPort49152|Tcpfeatures|Localfeatures|Al...</td>\n",
       "      <td>TcpSynDevice1L2D</td>\n",
       "      <td>600</td>\n",
       "      <td>00:16:6c:ab:6b:88</td>\n",
       "      <td>192.168.1.248</td>\n",
       "      <td>Samsung Camera</td>\n",
       "    </tr>\n",
       "    <tr>\n",
       "      <th>3</th>\n",
       "      <td>00166cab6b88.csv</td>\n",
       "      <td>1527862604</td>\n",
       "      <td>1527863204</td>\n",
       "      <td>localTcpPort49152|Tcpfeatures|Localfeatures|Al...</td>\n",
       "      <td>TcpSynDevice10L2D</td>\n",
       "      <td>600</td>\n",
       "      <td>00:16:6c:ab:6b:88</td>\n",
       "      <td>192.168.1.248</td>\n",
       "      <td>Samsung Camera</td>\n",
       "    </tr>\n",
       "    <tr>\n",
       "      <th>4</th>\n",
       "      <td>00166cab6b88.csv</td>\n",
       "      <td>1527864215</td>\n",
       "      <td>1527864815</td>\n",
       "      <td>localTcpPort49152|Tcpfeatures|Localfeatures|Al...</td>\n",
       "      <td>TcpSynDevice100L2D</td>\n",
       "      <td>600</td>\n",
       "      <td>00:16:6c:ab:6b:88</td>\n",
       "      <td>192.168.1.248</td>\n",
       "      <td>Samsung Camera</td>\n",
       "    </tr>\n",
       "    <tr>\n",
       "      <th>...</th>\n",
       "      <td>...</td>\n",
       "      <td>...</td>\n",
       "      <td>...</td>\n",
       "      <td>...</td>\n",
       "      <td>...</td>\n",
       "      <td>...</td>\n",
       "      <td>...</td>\n",
       "      <td>...</td>\n",
       "      <td>...</td>\n",
       "    </tr>\n",
       "    <tr>\n",
       "      <th>219</th>\n",
       "      <td>f4f5d88f0a3c.csv</td>\n",
       "      <td>1540314670</td>\n",
       "      <td>1540315270</td>\n",
       "      <td>Udpfeatures|Internetfeatures|Allfeatures|Inter...</td>\n",
       "      <td>Ssdp10W2D2W</td>\n",
       "      <td>600</td>\n",
       "      <td>F4:F5:D8:8F:0A:3C</td>\n",
       "      <td>192.168.1.119</td>\n",
       "      <td>chromecast</td>\n",
       "    </tr>\n",
       "    <tr>\n",
       "      <th>220</th>\n",
       "      <td>f4f5d88f0a3c.csv</td>\n",
       "      <td>1540315870</td>\n",
       "      <td>1540316470</td>\n",
       "      <td>Udpfeatures|Internetfeatures|Allfeatures|Inter...</td>\n",
       "      <td>Ssdp100W2D2W</td>\n",
       "      <td>600</td>\n",
       "      <td>F4:F5:D8:8F:0A:3C</td>\n",
       "      <td>192.168.1.119</td>\n",
       "      <td>chromecast</td>\n",
       "    </tr>\n",
       "    <tr>\n",
       "      <th>221</th>\n",
       "      <td>f4f5d88f0a3c.csv</td>\n",
       "      <td>1540452323</td>\n",
       "      <td>1540452924</td>\n",
       "      <td>Udpfeatures|Internetfeatures|Allfeatures|Inter...</td>\n",
       "      <td>Ssdp1W2D2W</td>\n",
       "      <td>601</td>\n",
       "      <td>F4:F5:D8:8F:0A:3C</td>\n",
       "      <td>192.168.1.119</td>\n",
       "      <td>chromecast</td>\n",
       "    </tr>\n",
       "    <tr>\n",
       "      <th>222</th>\n",
       "      <td>f4f5d88f0a3c.csv</td>\n",
       "      <td>1540453525</td>\n",
       "      <td>1540454125</td>\n",
       "      <td>Tcpfeatures|Internetfeatures|Allfeatures|Inter...</td>\n",
       "      <td>TcpSynReflection1W2D2W</td>\n",
       "      <td>600</td>\n",
       "      <td>F4:F5:D8:8F:0A:3C</td>\n",
       "      <td>192.168.1.119</td>\n",
       "      <td>chromecast</td>\n",
       "    </tr>\n",
       "    <tr>\n",
       "      <th>223</th>\n",
       "      <td>f4f5d88f0a3c.csv</td>\n",
       "      <td>1540462848</td>\n",
       "      <td>1540463448</td>\n",
       "      <td>Tcpfeatures|Internetfeatures|Allfeatures|Inter...</td>\n",
       "      <td>TcpSynReflection100W2D2W</td>\n",
       "      <td>600</td>\n",
       "      <td>F4:F5:D8:8F:0A:3C</td>\n",
       "      <td>192.168.1.119</td>\n",
       "      <td>chromecast</td>\n",
       "    </tr>\n",
       "  </tbody>\n",
       "</table>\n",
       "<p>224 rows × 9 columns</p>\n",
       "</div>"
      ],
      "text/plain": [
       "      annotation_file  start_time    end_time  \\\n",
       "0    00166cab6b88.csv  1527835334  1527835936   \n",
       "1    00166cab6b88.csv  1527836944  1527837544   \n",
       "2    00166cab6b88.csv  1527860996  1527861596   \n",
       "3    00166cab6b88.csv  1527862604  1527863204   \n",
       "4    00166cab6b88.csv  1527864215  1527864815   \n",
       "..                ...         ...         ...   \n",
       "219  f4f5d88f0a3c.csv  1540314670  1540315270   \n",
       "220  f4f5d88f0a3c.csv  1540315870  1540316470   \n",
       "221  f4f5d88f0a3c.csv  1540452323  1540452924   \n",
       "222  f4f5d88f0a3c.csv  1540453525  1540454125   \n",
       "223  f4f5d88f0a3c.csv  1540462848  1540463448   \n",
       "\n",
       "                                           description  \\\n",
       "0                Localfeatures|Allfeatures|Arpfeatures   \n",
       "1                Localfeatures|Allfeatures|Arpfeatures   \n",
       "2    localTcpPort49152|Tcpfeatures|Localfeatures|Al...   \n",
       "3    localTcpPort49152|Tcpfeatures|Localfeatures|Al...   \n",
       "4    localTcpPort49152|Tcpfeatures|Localfeatures|Al...   \n",
       "..                                                 ...   \n",
       "219  Udpfeatures|Internetfeatures|Allfeatures|Inter...   \n",
       "220  Udpfeatures|Internetfeatures|Allfeatures|Inter...   \n",
       "221  Udpfeatures|Internetfeatures|Allfeatures|Inter...   \n",
       "222  Tcpfeatures|Internetfeatures|Allfeatures|Inter...   \n",
       "223  Tcpfeatures|Internetfeatures|Allfeatures|Inter...   \n",
       "\n",
       "                  attack_type  duration                mac             ip  \\\n",
       "0                ArpSpoof1L2D       602  00:16:6c:ab:6b:88  192.168.1.248   \n",
       "1               ArpSpoof10L2D       600  00:16:6c:ab:6b:88  192.168.1.248   \n",
       "2            TcpSynDevice1L2D       600  00:16:6c:ab:6b:88  192.168.1.248   \n",
       "3           TcpSynDevice10L2D       600  00:16:6c:ab:6b:88  192.168.1.248   \n",
       "4          TcpSynDevice100L2D       600  00:16:6c:ab:6b:88  192.168.1.248   \n",
       "..                        ...       ...                ...            ...   \n",
       "219               Ssdp10W2D2W       600  F4:F5:D8:8F:0A:3C  192.168.1.119   \n",
       "220              Ssdp100W2D2W       600  F4:F5:D8:8F:0A:3C  192.168.1.119   \n",
       "221                Ssdp1W2D2W       601  F4:F5:D8:8F:0A:3C  192.168.1.119   \n",
       "222    TcpSynReflection1W2D2W       600  F4:F5:D8:8F:0A:3C  192.168.1.119   \n",
       "223  TcpSynReflection100W2D2W       600  F4:F5:D8:8F:0A:3C  192.168.1.119   \n",
       "\n",
       "        device_type  \n",
       "0    Samsung Camera  \n",
       "1    Samsung Camera  \n",
       "2    Samsung Camera  \n",
       "3    Samsung Camera  \n",
       "4    Samsung Camera  \n",
       "..              ...  \n",
       "219      chromecast  \n",
       "220      chromecast  \n",
       "221      chromecast  \n",
       "222      chromecast  \n",
       "223      chromecast  \n",
       "\n",
       "[224 rows x 9 columns]"
      ]
     },
     "execution_count": 21,
     "metadata": {
      "tags": []
     },
     "output_type": "execute_result"
    }
   ],
   "source": [
    "file_pattern = '*.csv'\n",
    "glob_path = os.path.join(os.getcwd(), 'annotations', file_pattern)\n",
    "file_list = glob.glob(glob_path)\n",
    "\n",
    "li = []\n",
    "for filepath in file_list:\n",
    "    print(f\"loading {filepath}\")\n",
    "    df = pd.read_csv(filepath, index_col=None, delimiter=',', header=0, names=[\n",
    "      'start_time', 'end_time', 'description', 'attack_type'])\n",
    "    \n",
    "    filename = os.path.basename(filepath)\n",
    "    df['annotation_file'] = filename\n",
    "    li.append(df)\n",
    "\n",
    "all_known_attacks = pd.concat(li, axis=0, ignore_index=True)\n",
    "# Convert time units to match tranalyzer\n",
    "all_known_attacks.sort_values(by=['start_time'], inplace=True, ignore_index=True)\n",
    "all_known_attacks[\"duration\"] = all_known_attacks['end_time'] - all_known_attacks['start_time']\n",
    "\n",
    "# Enrich attack meta-data with device meta-data\n",
    "all_known_attacks = all_known_attacks.set_index('annotation_file').join(device_info.set_index('annotation_file'))\n",
    "all_known_attacks.reset_index()"
   ]
  },
  {
   "cell_type": "code",
   "execution_count": null,
   "metadata": {
    "colab": {
     "base_uri": "https://localhost:8080/"
    },
    "id": "FBzffdLIQKSE",
    "outputId": "8cd56fbd-86da-4c0f-b5f8-79bdcf35d915"
   },
   "outputs": [
    {
     "name": "stdout",
     "output_type": "stream",
     "text": [
      "last known attack ended at 2018-10-25 10:30:48\n",
      "Using 145 of 224 known attacks\n"
     ]
    }
   ],
   "source": [
    "last_attack_endtime = max(all_known_attacks['end_time'])\n",
    "last_flow_endtime = max(mixed_flows['timeLast'])\n",
    "\n",
    "print(f\"last known attack ended at {time_to_date(last_attack_endtime)}\")\n",
    "# TODO - investigate why the last attack happens on Oct 25, but there are two more days of mixed traffic (Oct 26, Oct 27)\n",
    "\n",
    "# Filter out attacks that happened outside our current dataset scope\n",
    "known_attacks = all_known_attacks[all_known_attacks['end_time'] <= last_flow_endtime]\n",
    "print(f\"Using {len(known_attacks)} of {len(all_known_attacks)} known attacks\")"
   ]
  },
  {
   "cell_type": "markdown",
   "metadata": {
    "id": "LcsdMbGSVU4r"
   },
   "source": [
    "# Label Attack Flows"
   ]
  },
  {
   "cell_type": "code",
   "execution_count": null,
   "metadata": {
    "colab": {
     "base_uri": "https://localhost:8080/",
     "height": 487
    },
    "id": "bT9Y3rUC_NG_",
    "outputId": "6c759275-c654-4450-c2cf-9b49652ca564"
   },
   "outputs": [
    {
     "name": "stdout",
     "output_type": "stream",
     "text": [
      "Flow Counts ~ Mixed: 23306, Benign: 17000, Attack: 6306\n",
      "Stored 'mixed_flows' (DataFrame)\n"
     ]
    }
   ],
   "source": [
    "# Apply IP and mac adress filters\n",
    "attacker_ips = known_attacks.ip.unique()\n",
    "attacker_macs = known_attacks.mac.unique()\n",
    "attack_windows = [tuple(time_range) for time_range in known_attacks[['start_time', 'end_time']].values]\n",
    "matches_attack_address = (mixed_flows.srcIP.isin(attacker_ips)) | (mixed_flows.srcMac.isin(attacker_macs)) | (mixed_flows.dstIP.isin(attacker_ips)) | (mixed_flows.dstMac.isin(attacker_macs))\n",
    "\n",
    "# Apply attack window filters (capture flows that occured within a known attack)\n",
    "attack_window_filters = [(attack.start_time <= mixed_flows.timeFirst) & (attack.end_time <= mixed_flows.timeLast) \n",
    "                         for i, attack in known_attacks.iterrows()]\n",
    "in_any_attack_window = np.logical_or.reduce(attack_window_filters)\n",
    "\n",
    "# Label traffic as attack or benign\n",
    "# TODO - make sure only malicous flows are being captured by our filters\n",
    "\n",
    "mixed_flows['is_attack'] = False\n",
    "mixed_flows.loc[matches_attack_address & in_any_attack_window, 'is_attack'] = True\n",
    "\n",
    "print(f\"Flow Counts ~ Mixed: {len(mixed_flows)}, Benign: {(~mixed_flows.is_attack).sum()}, Attack: {(mixed_flows.is_attack).sum()}\")\n",
    "mixed_flows\n",
    "\n",
    "# for storing mixed flows\n",
    "%store mixed_flows"
   ]
  },
  {
   "cell_type": "markdown",
   "metadata": {
    "id": "icnHTvXjMyph"
   },
   "source": [
    "# Feature Selection"
   ]
  },
  {
   "cell_type": "code",
   "execution_count": null,
   "metadata": {
    "id": "lW4PcNe4vfil"
   },
   "outputs": [],
   "source": [
    "print(\"Listing features with a single uniform value (no information)\")\n",
    "print(\"Feature: unique value count\")\n",
    "print(all_flows.nunique()[all_flows.nunique() <= 1])"
   ]
  },
  {
   "cell_type": "code",
   "execution_count": null,
   "metadata": {
    "colab": {
     "base_uri": "https://localhost:8080/",
     "height": 435
    },
    "id": "sDf4T_dtMyFr",
    "outputId": "ba664a75-82f1-4646-b411-94bd3c54fdff"
   },
   "outputs": [
    {
     "name": "stdout",
     "output_type": "stream",
     "text": [
      "Stored 'features' (list)\n"
     ]
    }
   ],
   "source": [
    "# Features that have uniform values for our dataset\n",
    "no_info_features = ['ethVlanID', 'macStat', 'minIAT', 'tcpMPAID', 'icmpTmGtw']\n",
    "\n",
    "# Features which will not be used\n",
    "pointless_features = ['timeFirst', 'timeLast', 'dstPort', 'srcPort', 'dstIP', \n",
    "                      'dstMac', 'srcIP', 'srcMac', 'srcMac_dstMac_numP']\n",
    "\n",
    "# Non-decimal features categorized by data-type\n",
    "hex_features = ['flowStat', 'tcpFStat', 'ipTOS', 'ipFlags', 'ethType',\n",
    "                 'tcpStates', 'icmpStat', 'tcpAnomaly', \n",
    "                'tcpFlags',  'tcpMPF', 'tcpMPTBF', 'tcpMPdssF', 'tcpOptions']\n",
    "\n",
    "string_features = ['%dir', 'hdrDesc', 'srcManuf_dstManuf', 'dstPortClass', \n",
    "                   'srcIPCC', 'dstIPCC', 'dstIPOrg', 'srcIPOrg']\n",
    "\n",
    "\n",
    "# Not sure what to make of these - more research required\n",
    "underscore_features = ['ipOptCpCl_Num', 'icmpBFTypH_TypL_Code', 'ip6OptHH_D', 'ip6OptCntHH_D']\n",
    "\n",
    "# Features we will use\n",
    "features = ['flowInd', 'duration', 'numHdrDesc', 'numHdrs',\n",
    "            'l4Proto', 'macPairs', 'dstPortClassN', 'numPktsSnt', 'numPktsRcvd',\n",
    "            'numBytesSnt', 'numBytesRcvd', 'minPktSz', 'maxPktSz', 'avePktSize', 'stdPktSize', 'pktps', 'bytps',\n",
    "            'pktAsm', 'bytAsm', 'ipMindIPID', 'ipMaxdIPID', 'ipMinTTL', 'ipMaxTTL', 'ipTTLChg', 'ipOptCnt',\n",
    "            'tcpPSeqCnt', 'tcpSeqSntBytes', 'tcpSeqFaultCnt', 'tcpPAckCnt', 'tcpFlwLssAckRcvdBytes', 'tcpAckFaultCnt',\n",
    "            'tcpInitWinSz', 'tcpAveWinSz', 'tcpMinWinSz', 'tcpMaxWinSz', 'tcpWinSzDwnCnt', 'tcpWinSzUpCnt',\n",
    "            'tcpWinSzChgDirCnt', 'tcpOptPktCnt', 'tcpOptCnt', 'tcpMSS', 'tcpWS', 'tcpTmS', 'tcpTmER', 'tcpEcI',\n",
    "            'tcpBtm', 'tcpSSASAATrip', 'tcpRTTAckTripMin', 'tcpRTTAckTripMax', 'tcpRTTAckTripAve',\n",
    "            'tcpRTTAckTripJitAve', 'tcpRTTSseqAA', 'tcpRTTAckJitAve', 'icmpTCcnt', 'icmpEchoSuccRatio', 'icmpPFindex',\n",
    "            'connSip', 'connDip', 'connSipDip', 'connSipDprt', 'connF',  'aveIAT', 'maxIAT', \n",
    "                'stdIAT', 'tcpISeqN', 'tcpUtm', 'tcpWinSzThRt']\n",
    "\n",
    "unused_features = no_info_features + pointless_features + hex_features + string_features + underscore_features\n",
    "all_features = features + unused_features\n",
    "labels = ['is_attack']\n",
    "mixed_flows[features + labels]\n",
    "\n",
    "# for storing features\n",
    "%store features"
   ]
  }
 ],
 "metadata": {
  "colab": {
   "collapsed_sections": [],
   "include_colab_link": true,
   "name": "Tranalyzer Preprocessing - IoT Attack Traffic",
   "provenance": []
  },
  "kernelspec": {
   "display_name": "Python 3",
   "language": "python",
   "name": "python3"
  },
  "language_info": {
   "codemirror_mode": {
    "name": "ipython",
    "version": 3
   },
   "file_extension": ".py",
   "mimetype": "text/x-python",
   "name": "python",
   "nbconvert_exporter": "python",
   "pygments_lexer": "ipython3",
   "version": "3.8.3"
  }
 },
 "nbformat": 4,
 "nbformat_minor": 1
}
